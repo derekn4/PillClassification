{
  "cells": [
    {
      "cell_type": "code",
      "execution_count": 1,
      "metadata": {
        "id": "AEHVIG8HAM8D"
      },
      "outputs": [],
      "source": [
        "import os\n",
        "import pandas as pd\n",
        "import numpy as np\n",
        "import joblib\n",
        "#from imutils import paths\n",
        "from sklearn.preprocessing import LabelBinarizer\n",
        "from tqdm import tqdm"
      ]
    },
    {
      "cell_type": "code",
      "execution_count": 2,
      "metadata": {
        "colab": {
          "base_uri": "https://localhost:8080/"
        },
        "id": "PX0Scubv9r8R",
        "outputId": "b349bab8-92a7-4423-993e-45f8ce6cc436"
      },
      "outputs": [
        {
          "name": "stdout",
          "output_type": "stream",
          "text": [
            "Looking in indexes: https://pypi.org/simple, https://us-python.pkg.dev/colab-wheels/public/simple/\n",
            "Requirement already satisfied: kaggle in /usr/local/lib/python3.7/dist-packages (1.5.12)\n",
            "Requirement already satisfied: certifi in /usr/local/lib/python3.7/dist-packages (from kaggle) (2022.9.24)\n",
            "Requirement already satisfied: python-dateutil in /usr/local/lib/python3.7/dist-packages (from kaggle) (2.8.2)\n",
            "Requirement already satisfied: python-slugify in /usr/local/lib/python3.7/dist-packages (from kaggle) (6.1.2)\n",
            "Requirement already satisfied: six>=1.10 in /usr/local/lib/python3.7/dist-packages (from kaggle) (1.15.0)\n",
            "Requirement already satisfied: tqdm in /usr/local/lib/python3.7/dist-packages (from kaggle) (4.64.1)\n",
            "Requirement already satisfied: requests in /usr/local/lib/python3.7/dist-packages (from kaggle) (2.23.0)\n",
            "Requirement already satisfied: urllib3 in /usr/local/lib/python3.7/dist-packages (from kaggle) (1.24.3)\n",
            "Requirement already satisfied: text-unidecode>=1.3 in /usr/local/lib/python3.7/dist-packages (from python-slugify->kaggle) (1.3)\n",
            "Requirement already satisfied: idna<3,>=2.5 in /usr/local/lib/python3.7/dist-packages (from requests->kaggle) (2.10)\n",
            "Requirement already satisfied: chardet<4,>=3.0.2 in /usr/local/lib/python3.7/dist-packages (from requests->kaggle) (3.0.4)\n"
          ]
        }
      ],
      "source": [
        "!pip install kaggle"
      ]
    },
    {
      "cell_type": "code",
      "execution_count": 3,
      "metadata": {
        "id": "BoXjDyuf-Fc3"
      },
      "outputs": [],
      "source": [
        "! mkdir ~/.kaggle"
      ]
    },
    {
      "cell_type": "code",
      "execution_count": 4,
      "metadata": {
        "id": "PuT7iDgW-G4v"
      },
      "outputs": [],
      "source": [
        "! cp kaggle.json ~/.kaggle/"
      ]
    },
    {
      "cell_type": "code",
      "execution_count": 5,
      "metadata": {
        "id": "JQHuYVol-KGJ"
      },
      "outputs": [],
      "source": [
        "! chmod 600 ~/.kaggle/kaggle.json"
      ]
    },
    {
      "cell_type": "code",
      "execution_count": 6,
      "metadata": {
        "colab": {
          "base_uri": "https://localhost:8080/"
        },
        "id": "e17gcsf8-LOM",
        "outputId": "86eb46da-267f-4245-93bf-572195ff4adb"
      },
      "outputs": [
        {
          "name": "stdout",
          "output_type": "stream",
          "text": [
            "Downloading pillimages.zip to /content\n",
            "100% 14.6G/14.6G [01:06<00:00, 289MB/s]\n",
            "100% 14.6G/14.6G [01:06<00:00, 235MB/s]\n"
          ]
        }
      ],
      "source": [
        "!kaggle datasets download -d derekngu4/pillimages"
      ]
    },
    {
      "cell_type": "code",
      "execution_count": 7,
      "metadata": {
        "id": "zs2BCvkS-PkB"
      },
      "outputs": [],
      "source": [
        "!unzip -q \"/content/pillimages.zip\""
      ]
    },
    {
      "cell_type": "code",
      "execution_count": 8,
      "metadata": {
        "id": "okMw204H_Rq6"
      },
      "outputs": [],
      "source": [
        "df = pd.read_csv('/content/final_datatable.csv')"
      ]
    },
    {
      "cell_type": "code",
      "execution_count": 9,
      "metadata": {
        "colab": {
          "base_uri": "https://localhost:8080/"
        },
        "id": "LV_7V354AOg1",
        "outputId": "b3ead9f3-81f0-4081-dc58-8d934ebd3b20"
      },
      "outputs": [
        {
          "data": {
            "text/plain": [
              "0         images/CLLLLUPGIX7J8MP1WWQ9WN4-CO0B5NV.CR2\n",
              "1          images/PRNJ-AXZIQ!HUQKJJBP_DV44ST0KN9.CR2\n",
              "2          images/79U-YY6M1UUR6F127ZMACIWPEEXHLB.JPG\n",
              "3          images/7WVFV5H74!ELFNQ_GUH92E9ERM9P2K.JPG\n",
              "4         images/B4CH0R9B7PEQ6GORRX-8XWOL-_G7W9_.JPG\n",
              "                             ...                    \n",
              "133769     images/TY5OVXLLOXV6H4I1TDVT4TFQ6TYEJ4.PNG\n",
              "133770    images/BEIR3XK38EMGSDOZTWMUK20JMK1IHJM.PNG\n",
              "133771    images/CLJ1W40OS0XG5H6IVYT!NIFZEUNEOCH.PNG\n",
              "133772    images/CSUHWDZ!XAZSEJHDANMFR8ED0SO2KS_.PNG\n",
              "133773    images/B7P0-2BHT7T88IHB4E1EEQ_M93OW8RO.JPG\n",
              "Name: Image, Length: 133774, dtype: object"
            ]
          },
          "execution_count": 9,
          "metadata": {},
          "output_type": "execute_result"
        }
      ],
      "source": [
        "df[\"Image\"] = df[\"Image\"].apply(lambda x: x.split(\"/\"))\n",
        "df[\"Image\"] = df[\"Image\"].apply(lambda x: x[1:])\n",
        "df[\"Image\"] = df[\"Image\"].apply(lambda x: \"/\".join(x))\n",
        "df[\"Image\"]"
      ]
    },
    {
      "cell_type": "code",
      "execution_count": 10,
      "metadata": {
        "colab": {
          "base_uri": "https://localhost:8080/",
          "height": 423
        },
        "id": "HBLh7g2kAP12",
        "outputId": "9375d660-44c6-4582-9106-ab1a3c4667d5"
      },
      "outputs": [
        {
          "data": {
            "text/html": [
              "\n",
              "  <div id=\"df-74d2509f-312f-4ed3-8644-71953fe3856e\">\n",
              "    <div class=\"colab-df-container\">\n",
              "      <div>\n",
              "<style scoped>\n",
              "    .dataframe tbody tr th:only-of-type {\n",
              "        vertical-align: middle;\n",
              "    }\n",
              "\n",
              "    .dataframe tbody tr th {\n",
              "        vertical-align: top;\n",
              "    }\n",
              "\n",
              "    .dataframe thead th {\n",
              "        text-align: right;\n",
              "    }\n",
              "</style>\n",
              "<table border=\"1\" class=\"dataframe\">\n",
              "  <thead>\n",
              "    <tr style=\"text-align: right;\">\n",
              "      <th></th>\n",
              "      <th>NDC11</th>\n",
              "      <th>Part</th>\n",
              "      <th>Image</th>\n",
              "      <th>Layout</th>\n",
              "      <th>Name</th>\n",
              "    </tr>\n",
              "  </thead>\n",
              "  <tbody>\n",
              "    <tr>\n",
              "      <th>2</th>\n",
              "      <td>2322730</td>\n",
              "      <td>1</td>\n",
              "      <td>images/79U-YY6M1UUR6F127ZMACIWPEEXHLB.JPG</td>\n",
              "      <td>C3PI_Test</td>\n",
              "      <td>strattera</td>\n",
              "    </tr>\n",
              "    <tr>\n",
              "      <th>3</th>\n",
              "      <td>2322730</td>\n",
              "      <td>1</td>\n",
              "      <td>images/7WVFV5H74!ELFNQ_GUH92E9ERM9P2K.JPG</td>\n",
              "      <td>C3PI_Test</td>\n",
              "      <td>strattera</td>\n",
              "    </tr>\n",
              "    <tr>\n",
              "      <th>4</th>\n",
              "      <td>2322730</td>\n",
              "      <td>1</td>\n",
              "      <td>images/B4CH0R9B7PEQ6GORRX-8XWOL-_G7W9_.JPG</td>\n",
              "      <td>C3PI_Test</td>\n",
              "      <td>strattera</td>\n",
              "    </tr>\n",
              "    <tr>\n",
              "      <th>5</th>\n",
              "      <td>2322730</td>\n",
              "      <td>1</td>\n",
              "      <td>images/B5T5HI5XI8X2HSBJL-TGDHET4YG5C5F.JPG</td>\n",
              "      <td>C3PI_Test</td>\n",
              "      <td>strattera</td>\n",
              "    </tr>\n",
              "    <tr>\n",
              "      <th>6</th>\n",
              "      <td>2322730</td>\n",
              "      <td>1</td>\n",
              "      <td>images/B8S621VZTSXR4Z4VRHYLTKGCQWIXETR.JPG</td>\n",
              "      <td>C3PI_Test</td>\n",
              "      <td>strattera</td>\n",
              "    </tr>\n",
              "    <tr>\n",
              "      <th>...</th>\n",
              "      <td>...</td>\n",
              "      <td>...</td>\n",
              "      <td>...</td>\n",
              "      <td>...</td>\n",
              "      <td>...</td>\n",
              "    </tr>\n",
              "    <tr>\n",
              "      <th>133757</th>\n",
              "      <td>99207046730</td>\n",
              "      <td>1</td>\n",
              "      <td>images/BBEL4!BOKX!IOX4135!YH8LVB9P7PT8.JPG</td>\n",
              "      <td>MC_API_NLMIMAGE_V1.3</td>\n",
              "      <td>solodyn</td>\n",
              "    </tr>\n",
              "    <tr>\n",
              "      <th>133758</th>\n",
              "      <td>99207046730</td>\n",
              "      <td>1</td>\n",
              "      <td>images/CRP1V79I25UU3P94MJBBFCJL!5IS1Q!.JPG</td>\n",
              "      <td>MC_API_RXNAV_V1.3</td>\n",
              "      <td>solodyn</td>\n",
              "    </tr>\n",
              "    <tr>\n",
              "      <th>133767</th>\n",
              "      <td>99207046730</td>\n",
              "      <td>1</td>\n",
              "      <td>images/C0TDJ6BK9FFVIBA4O81NNYC!2148FGG.JPG</td>\n",
              "      <td>MC_CHALLENGE_V1.0</td>\n",
              "      <td>solodyn</td>\n",
              "    </tr>\n",
              "    <tr>\n",
              "      <th>133768</th>\n",
              "      <td>99207046730</td>\n",
              "      <td>1</td>\n",
              "      <td>images/CCQWARGZE3G7SJ!TYX-QXYNT3Q9Y1WG.JPG</td>\n",
              "      <td>MC_CHALLENGE_V1.0</td>\n",
              "      <td>solodyn</td>\n",
              "    </tr>\n",
              "    <tr>\n",
              "      <th>133773</th>\n",
              "      <td>99207046730</td>\n",
              "      <td>1</td>\n",
              "      <td>images/B7P0-2BHT7T88IHB4E1EEQ_M93OW8RO.JPG</td>\n",
              "      <td>MC_SPL_SPLIMAGE_V3.0</td>\n",
              "      <td>solodyn</td>\n",
              "    </tr>\n",
              "  </tbody>\n",
              "</table>\n",
              "<p>59453 rows × 5 columns</p>\n",
              "</div>\n",
              "      <button class=\"colab-df-convert\" onclick=\"convertToInteractive('df-74d2509f-312f-4ed3-8644-71953fe3856e')\"\n",
              "              title=\"Convert this dataframe to an interactive table.\"\n",
              "              style=\"display:none;\">\n",
              "        \n",
              "  <svg xmlns=\"http://www.w3.org/2000/svg\" height=\"24px\"viewBox=\"0 0 24 24\"\n",
              "       width=\"24px\">\n",
              "    <path d=\"M0 0h24v24H0V0z\" fill=\"none\"/>\n",
              "    <path d=\"M18.56 5.44l.94 2.06.94-2.06 2.06-.94-2.06-.94-.94-2.06-.94 2.06-2.06.94zm-11 1L8.5 8.5l.94-2.06 2.06-.94-2.06-.94L8.5 2.5l-.94 2.06-2.06.94zm10 10l.94 2.06.94-2.06 2.06-.94-2.06-.94-.94-2.06-.94 2.06-2.06.94z\"/><path d=\"M17.41 7.96l-1.37-1.37c-.4-.4-.92-.59-1.43-.59-.52 0-1.04.2-1.43.59L10.3 9.45l-7.72 7.72c-.78.78-.78 2.05 0 2.83L4 21.41c.39.39.9.59 1.41.59.51 0 1.02-.2 1.41-.59l7.78-7.78 2.81-2.81c.8-.78.8-2.07 0-2.86zM5.41 20L4 18.59l7.72-7.72 1.47 1.35L5.41 20z\"/>\n",
              "  </svg>\n",
              "      </button>\n",
              "      \n",
              "  <style>\n",
              "    .colab-df-container {\n",
              "      display:flex;\n",
              "      flex-wrap:wrap;\n",
              "      gap: 12px;\n",
              "    }\n",
              "\n",
              "    .colab-df-convert {\n",
              "      background-color: #E8F0FE;\n",
              "      border: none;\n",
              "      border-radius: 50%;\n",
              "      cursor: pointer;\n",
              "      display: none;\n",
              "      fill: #1967D2;\n",
              "      height: 32px;\n",
              "      padding: 0 0 0 0;\n",
              "      width: 32px;\n",
              "    }\n",
              "\n",
              "    .colab-df-convert:hover {\n",
              "      background-color: #E2EBFA;\n",
              "      box-shadow: 0px 1px 2px rgba(60, 64, 67, 0.3), 0px 1px 3px 1px rgba(60, 64, 67, 0.15);\n",
              "      fill: #174EA6;\n",
              "    }\n",
              "\n",
              "    [theme=dark] .colab-df-convert {\n",
              "      background-color: #3B4455;\n",
              "      fill: #D2E3FC;\n",
              "    }\n",
              "\n",
              "    [theme=dark] .colab-df-convert:hover {\n",
              "      background-color: #434B5C;\n",
              "      box-shadow: 0px 1px 3px 1px rgba(0, 0, 0, 0.15);\n",
              "      filter: drop-shadow(0px 1px 2px rgba(0, 0, 0, 0.3));\n",
              "      fill: #FFFFFF;\n",
              "    }\n",
              "  </style>\n",
              "\n",
              "      <script>\n",
              "        const buttonEl =\n",
              "          document.querySelector('#df-74d2509f-312f-4ed3-8644-71953fe3856e button.colab-df-convert');\n",
              "        buttonEl.style.display =\n",
              "          google.colab.kernel.accessAllowed ? 'block' : 'none';\n",
              "\n",
              "        async function convertToInteractive(key) {\n",
              "          const element = document.querySelector('#df-74d2509f-312f-4ed3-8644-71953fe3856e');\n",
              "          const dataTable =\n",
              "            await google.colab.kernel.invokeFunction('convertToInteractive',\n",
              "                                                     [key], {});\n",
              "          if (!dataTable) return;\n",
              "\n",
              "          const docLinkHtml = 'Like what you see? Visit the ' +\n",
              "            '<a target=\"_blank\" href=https://colab.research.google.com/notebooks/data_table.ipynb>data table notebook</a>'\n",
              "            + ' to learn more about interactive tables.';\n",
              "          element.innerHTML = '';\n",
              "          dataTable['output_type'] = 'display_data';\n",
              "          await google.colab.output.renderOutput(dataTable, element);\n",
              "          const docLink = document.createElement('div');\n",
              "          docLink.innerHTML = docLinkHtml;\n",
              "          element.appendChild(docLink);\n",
              "        }\n",
              "      </script>\n",
              "    </div>\n",
              "  </div>\n",
              "  "
            ],
            "text/plain": [
              "              NDC11  Part                                       Image  \\\n",
              "2           2322730     1   images/79U-YY6M1UUR6F127ZMACIWPEEXHLB.JPG   \n",
              "3           2322730     1   images/7WVFV5H74!ELFNQ_GUH92E9ERM9P2K.JPG   \n",
              "4           2322730     1  images/B4CH0R9B7PEQ6GORRX-8XWOL-_G7W9_.JPG   \n",
              "5           2322730     1  images/B5T5HI5XI8X2HSBJL-TGDHET4YG5C5F.JPG   \n",
              "6           2322730     1  images/B8S621VZTSXR4Z4VRHYLTKGCQWIXETR.JPG   \n",
              "...             ...   ...                                         ...   \n",
              "133757  99207046730     1  images/BBEL4!BOKX!IOX4135!YH8LVB9P7PT8.JPG   \n",
              "133758  99207046730     1  images/CRP1V79I25UU3P94MJBBFCJL!5IS1Q!.JPG   \n",
              "133767  99207046730     1  images/C0TDJ6BK9FFVIBA4O81NNYC!2148FGG.JPG   \n",
              "133768  99207046730     1  images/CCQWARGZE3G7SJ!TYX-QXYNT3Q9Y1WG.JPG   \n",
              "133773  99207046730     1  images/B7P0-2BHT7T88IHB4E1EEQ_M93OW8RO.JPG   \n",
              "\n",
              "                      Layout       Name  \n",
              "2                  C3PI_Test  strattera  \n",
              "3                  C3PI_Test  strattera  \n",
              "4                  C3PI_Test  strattera  \n",
              "5                  C3PI_Test  strattera  \n",
              "6                  C3PI_Test  strattera  \n",
              "...                      ...        ...  \n",
              "133757  MC_API_NLMIMAGE_V1.3    solodyn  \n",
              "133758     MC_API_RXNAV_V1.3    solodyn  \n",
              "133767     MC_CHALLENGE_V1.0    solodyn  \n",
              "133768     MC_CHALLENGE_V1.0    solodyn  \n",
              "133773  MC_SPL_SPLIMAGE_V3.0    solodyn  \n",
              "\n",
              "[59453 rows x 5 columns]"
            ]
          },
          "execution_count": 10,
          "metadata": {},
          "output_type": "execute_result"
        }
      ],
      "source": [
        "df = df[df[\"Image\"].str.contains(\".JPG\")==True]\n",
        "df"
      ]
    },
    {
      "cell_type": "code",
      "execution_count": 11,
      "metadata": {
        "id": "h8SdLlHNARY6"
      },
      "outputs": [],
      "source": [
        "dir_list = os.listdir(\"/content/images/images\")\n",
        "for d in range(len(dir_list)):\n",
        "    dir_list[d] = \"images/\"+dir_list[d]"
      ]
    },
    {
      "cell_type": "code",
      "execution_count": 12,
      "metadata": {
        "colab": {
          "base_uri": "https://localhost:8080/",
          "height": 442
        },
        "id": "ESiGqwgVAYON",
        "outputId": "f5ba7101-5250-40f1-c069-a87103c35f4d"
      },
      "outputs": [
        {
          "name": "stdout",
          "output_type": "stream",
          "text": [
            "10562\n"
          ]
        },
        {
          "data": {
            "text/html": [
              "\n",
              "  <div id=\"df-025de827-d109-4973-b82f-7259e8fdd778\">\n",
              "    <div class=\"colab-df-container\">\n",
              "      <div>\n",
              "<style scoped>\n",
              "    .dataframe tbody tr th:only-of-type {\n",
              "        vertical-align: middle;\n",
              "    }\n",
              "\n",
              "    .dataframe tbody tr th {\n",
              "        vertical-align: top;\n",
              "    }\n",
              "\n",
              "    .dataframe thead th {\n",
              "        text-align: right;\n",
              "    }\n",
              "</style>\n",
              "<table border=\"1\" class=\"dataframe\">\n",
              "  <thead>\n",
              "    <tr style=\"text-align: right;\">\n",
              "      <th></th>\n",
              "      <th>NDC11</th>\n",
              "      <th>Part</th>\n",
              "      <th>Image</th>\n",
              "      <th>Layout</th>\n",
              "      <th>Name</th>\n",
              "    </tr>\n",
              "  </thead>\n",
              "  <tbody>\n",
              "    <tr>\n",
              "      <th>2</th>\n",
              "      <td>2322730</td>\n",
              "      <td>1</td>\n",
              "      <td>images/79U-YY6M1UUR6F127ZMACIWPEEXHLB.JPG</td>\n",
              "      <td>C3PI_Test</td>\n",
              "      <td>strattera</td>\n",
              "    </tr>\n",
              "    <tr>\n",
              "      <th>3</th>\n",
              "      <td>2322730</td>\n",
              "      <td>1</td>\n",
              "      <td>images/7WVFV5H74!ELFNQ_GUH92E9ERM9P2K.JPG</td>\n",
              "      <td>C3PI_Test</td>\n",
              "      <td>strattera</td>\n",
              "    </tr>\n",
              "    <tr>\n",
              "      <th>32</th>\n",
              "      <td>2322830</td>\n",
              "      <td>1</td>\n",
              "      <td>images/ZE6YLGQVM5S1CK6YI_DLIDWGHZ8F8W.JPG</td>\n",
              "      <td>C3PI_Test</td>\n",
              "      <td>strattera</td>\n",
              "    </tr>\n",
              "    <tr>\n",
              "      <th>33</th>\n",
              "      <td>2322830</td>\n",
              "      <td>1</td>\n",
              "      <td>images/6I3-4B_PW66465QR7ANNTSZN7M0NIH.JPG</td>\n",
              "      <td>C3PI_Test</td>\n",
              "      <td>strattera</td>\n",
              "    </tr>\n",
              "    <tr>\n",
              "      <th>34</th>\n",
              "      <td>2322830</td>\n",
              "      <td>1</td>\n",
              "      <td>images/B-FYXX8OS1YRV94N!KEU3DIY595NY55.JPG</td>\n",
              "      <td>C3PI_Test</td>\n",
              "      <td>strattera</td>\n",
              "    </tr>\n",
              "    <tr>\n",
              "      <th>...</th>\n",
              "      <td>...</td>\n",
              "      <td>...</td>\n",
              "      <td>...</td>\n",
              "      <td>...</td>\n",
              "      <td>...</td>\n",
              "    </tr>\n",
              "    <tr>\n",
              "      <th>133741</th>\n",
              "      <td>99207046730</td>\n",
              "      <td>1</td>\n",
              "      <td>images/R6NL6W0B3S7CQFBFXV-Y4J4JBFLUSZ.JPG</td>\n",
              "      <td>C3PI_Test</td>\n",
              "      <td>solodyn</td>\n",
              "    </tr>\n",
              "    <tr>\n",
              "      <th>133742</th>\n",
              "      <td>99207046730</td>\n",
              "      <td>1</td>\n",
              "      <td>images/RI_0YPYI!KAYN546T5Y23IAPABHE15.JPG</td>\n",
              "      <td>C3PI_Test</td>\n",
              "      <td>solodyn</td>\n",
              "    </tr>\n",
              "    <tr>\n",
              "      <th>133743</th>\n",
              "      <td>99207046730</td>\n",
              "      <td>1</td>\n",
              "      <td>images/VZ!X2_8O50JPTJC2OQSQ-TF6!F!DLI.JPG</td>\n",
              "      <td>C3PI_Test</td>\n",
              "      <td>solodyn</td>\n",
              "    </tr>\n",
              "    <tr>\n",
              "      <th>133744</th>\n",
              "      <td>99207046730</td>\n",
              "      <td>1</td>\n",
              "      <td>images/7RDJ!!2-87!5-3EB35KG6L!RRX-DX6.JPG</td>\n",
              "      <td>C3PI_Test</td>\n",
              "      <td>solodyn</td>\n",
              "    </tr>\n",
              "    <tr>\n",
              "      <th>133745</th>\n",
              "      <td>99207046730</td>\n",
              "      <td>1</td>\n",
              "      <td>images/!GP-H9T85XHAE!BVK08-1X9P1!JFZH.JPG</td>\n",
              "      <td>C3PI_Test</td>\n",
              "      <td>solodyn</td>\n",
              "    </tr>\n",
              "  </tbody>\n",
              "</table>\n",
              "<p>10604 rows × 5 columns</p>\n",
              "</div>\n",
              "      <button class=\"colab-df-convert\" onclick=\"convertToInteractive('df-025de827-d109-4973-b82f-7259e8fdd778')\"\n",
              "              title=\"Convert this dataframe to an interactive table.\"\n",
              "              style=\"display:none;\">\n",
              "        \n",
              "  <svg xmlns=\"http://www.w3.org/2000/svg\" height=\"24px\"viewBox=\"0 0 24 24\"\n",
              "       width=\"24px\">\n",
              "    <path d=\"M0 0h24v24H0V0z\" fill=\"none\"/>\n",
              "    <path d=\"M18.56 5.44l.94 2.06.94-2.06 2.06-.94-2.06-.94-.94-2.06-.94 2.06-2.06.94zm-11 1L8.5 8.5l.94-2.06 2.06-.94-2.06-.94L8.5 2.5l-.94 2.06-2.06.94zm10 10l.94 2.06.94-2.06 2.06-.94-2.06-.94-.94-2.06-.94 2.06-2.06.94z\"/><path d=\"M17.41 7.96l-1.37-1.37c-.4-.4-.92-.59-1.43-.59-.52 0-1.04.2-1.43.59L10.3 9.45l-7.72 7.72c-.78.78-.78 2.05 0 2.83L4 21.41c.39.39.9.59 1.41.59.51 0 1.02-.2 1.41-.59l7.78-7.78 2.81-2.81c.8-.78.8-2.07 0-2.86zM5.41 20L4 18.59l7.72-7.72 1.47 1.35L5.41 20z\"/>\n",
              "  </svg>\n",
              "      </button>\n",
              "      \n",
              "  <style>\n",
              "    .colab-df-container {\n",
              "      display:flex;\n",
              "      flex-wrap:wrap;\n",
              "      gap: 12px;\n",
              "    }\n",
              "\n",
              "    .colab-df-convert {\n",
              "      background-color: #E8F0FE;\n",
              "      border: none;\n",
              "      border-radius: 50%;\n",
              "      cursor: pointer;\n",
              "      display: none;\n",
              "      fill: #1967D2;\n",
              "      height: 32px;\n",
              "      padding: 0 0 0 0;\n",
              "      width: 32px;\n",
              "    }\n",
              "\n",
              "    .colab-df-convert:hover {\n",
              "      background-color: #E2EBFA;\n",
              "      box-shadow: 0px 1px 2px rgba(60, 64, 67, 0.3), 0px 1px 3px 1px rgba(60, 64, 67, 0.15);\n",
              "      fill: #174EA6;\n",
              "    }\n",
              "\n",
              "    [theme=dark] .colab-df-convert {\n",
              "      background-color: #3B4455;\n",
              "      fill: #D2E3FC;\n",
              "    }\n",
              "\n",
              "    [theme=dark] .colab-df-convert:hover {\n",
              "      background-color: #434B5C;\n",
              "      box-shadow: 0px 1px 3px 1px rgba(0, 0, 0, 0.15);\n",
              "      filter: drop-shadow(0px 1px 2px rgba(0, 0, 0, 0.3));\n",
              "      fill: #FFFFFF;\n",
              "    }\n",
              "  </style>\n",
              "\n",
              "      <script>\n",
              "        const buttonEl =\n",
              "          document.querySelector('#df-025de827-d109-4973-b82f-7259e8fdd778 button.colab-df-convert');\n",
              "        buttonEl.style.display =\n",
              "          google.colab.kernel.accessAllowed ? 'block' : 'none';\n",
              "\n",
              "        async function convertToInteractive(key) {\n",
              "          const element = document.querySelector('#df-025de827-d109-4973-b82f-7259e8fdd778');\n",
              "          const dataTable =\n",
              "            await google.colab.kernel.invokeFunction('convertToInteractive',\n",
              "                                                     [key], {});\n",
              "          if (!dataTable) return;\n",
              "\n",
              "          const docLinkHtml = 'Like what you see? Visit the ' +\n",
              "            '<a target=\"_blank\" href=https://colab.research.google.com/notebooks/data_table.ipynb>data table notebook</a>'\n",
              "            + ' to learn more about interactive tables.';\n",
              "          element.innerHTML = '';\n",
              "          dataTable['output_type'] = 'display_data';\n",
              "          await google.colab.output.renderOutput(dataTable, element);\n",
              "          const docLink = document.createElement('div');\n",
              "          docLink.innerHTML = docLinkHtml;\n",
              "          element.appendChild(docLink);\n",
              "        }\n",
              "      </script>\n",
              "    </div>\n",
              "  </div>\n",
              "  "
            ],
            "text/plain": [
              "              NDC11  Part                                       Image  \\\n",
              "2           2322730     1   images/79U-YY6M1UUR6F127ZMACIWPEEXHLB.JPG   \n",
              "3           2322730     1   images/7WVFV5H74!ELFNQ_GUH92E9ERM9P2K.JPG   \n",
              "32          2322830     1   images/ZE6YLGQVM5S1CK6YI_DLIDWGHZ8F8W.JPG   \n",
              "33          2322830     1   images/6I3-4B_PW66465QR7ANNTSZN7M0NIH.JPG   \n",
              "34          2322830     1  images/B-FYXX8OS1YRV94N!KEU3DIY595NY55.JPG   \n",
              "...             ...   ...                                         ...   \n",
              "133741  99207046730     1   images/R6NL6W0B3S7CQFBFXV-Y4J4JBFLUSZ.JPG   \n",
              "133742  99207046730     1   images/RI_0YPYI!KAYN546T5Y23IAPABHE15.JPG   \n",
              "133743  99207046730     1   images/VZ!X2_8O50JPTJC2OQSQ-TF6!F!DLI.JPG   \n",
              "133744  99207046730     1   images/7RDJ!!2-87!5-3EB35KG6L!RRX-DX6.JPG   \n",
              "133745  99207046730     1   images/!GP-H9T85XHAE!BVK08-1X9P1!JFZH.JPG   \n",
              "\n",
              "           Layout       Name  \n",
              "2       C3PI_Test  strattera  \n",
              "3       C3PI_Test  strattera  \n",
              "32      C3PI_Test  strattera  \n",
              "33      C3PI_Test  strattera  \n",
              "34      C3PI_Test  strattera  \n",
              "...           ...        ...  \n",
              "133741  C3PI_Test    solodyn  \n",
              "133742  C3PI_Test    solodyn  \n",
              "133743  C3PI_Test    solodyn  \n",
              "133744  C3PI_Test    solodyn  \n",
              "133745  C3PI_Test    solodyn  \n",
              "\n",
              "[10604 rows x 5 columns]"
            ]
          },
          "execution_count": 12,
          "metadata": {},
          "output_type": "execute_result"
        }
      ],
      "source": [
        "set_img = set(dir_list)\n",
        "print(len(set_img))\n",
        "df = df[df.Image.isin(set_img)]\n",
        "df"
      ]
    },
    {
      "cell_type": "code",
      "execution_count": 13,
      "metadata": {
        "id": "nPKL9bMrAZ5W"
      },
      "outputs": [],
      "source": [
        "def append_ext(fn):\n",
        "    return \"/content/images/\" + fn"
      ]
    },
    {
      "cell_type": "code",
      "execution_count": 14,
      "metadata": {
        "colab": {
          "base_uri": "https://localhost:8080/"
        },
        "id": "8VI8X3x5Af6_",
        "outputId": "f41664f7-2d1c-4cab-8610-6090261c4499"
      },
      "outputs": [
        {
          "name": "stderr",
          "output_type": "stream",
          "text": [
            "/usr/local/lib/python3.7/dist-packages/ipykernel_launcher.py:1: SettingWithCopyWarning: \n",
            "A value is trying to be set on a copy of a slice from a DataFrame.\n",
            "Try using .loc[row_indexer,col_indexer] = value instead\n",
            "\n",
            "See the caveats in the documentation: https://pandas.pydata.org/pandas-docs/stable/user_guide/indexing.html#returning-a-view-versus-a-copy\n",
            "  \"\"\"Entry point for launching an IPython kernel.\n"
          ]
        }
      ],
      "source": [
        "df['Image'] = df['Image'].apply(append_ext)"
      ]
    },
    {
      "cell_type": "code",
      "execution_count": 15,
      "metadata": {
        "id": "xnt7hdfrAhIc"
      },
      "outputs": [],
      "source": [
        "counts = df['Name'].value_counts()\n",
        "\n",
        "res = df[~df['Name'].isin(counts[counts < 18].index)]"
      ]
    },
    {
      "cell_type": "code",
      "execution_count": 16,
      "metadata": {
        "colab": {
          "base_uri": "https://localhost:8080/"
        },
        "id": "LAusRlgpAiUb",
        "outputId": "e6c124f7-aecd-43a7-da4b-e0ccb1abff39"
      },
      "outputs": [
        {
          "data": {
            "text/plain": [
              "4390"
            ]
          },
          "execution_count": 16,
          "metadata": {},
          "output_type": "execute_result"
        }
      ],
      "source": [
        "len(res)"
      ]
    },
    {
      "cell_type": "code",
      "execution_count": 17,
      "metadata": {
        "colab": {
          "base_uri": "https://localhost:8080/",
          "height": 532
        },
        "id": "0nBRVM6bAjbP",
        "outputId": "e6992ba5-2d71-4cdd-89af-484b8274c0a1"
      },
      "outputs": [
        {
          "name": "stderr",
          "output_type": "stream",
          "text": [
            "/usr/local/lib/python3.7/dist-packages/ipykernel_launcher.py:3: SettingWithCopyWarning: \n",
            "A value is trying to be set on a copy of a slice from a DataFrame.\n",
            "Try using .loc[row_indexer,col_indexer] = value instead\n",
            "\n",
            "See the caveats in the documentation: https://pandas.pydata.org/pandas-docs/stable/user_guide/indexing.html#returning-a-view-versus-a-copy\n",
            "  This is separate from the ipykernel package so we can avoid doing imports until\n"
          ]
        },
        {
          "data": {
            "text/html": [
              "\n",
              "  <div id=\"df-14b90af2-a2ca-43a5-85f6-5ecbde306e79\">\n",
              "    <div class=\"colab-df-container\">\n",
              "      <div>\n",
              "<style scoped>\n",
              "    .dataframe tbody tr th:only-of-type {\n",
              "        vertical-align: middle;\n",
              "    }\n",
              "\n",
              "    .dataframe tbody tr th {\n",
              "        vertical-align: top;\n",
              "    }\n",
              "\n",
              "    .dataframe thead th {\n",
              "        text-align: right;\n",
              "    }\n",
              "</style>\n",
              "<table border=\"1\" class=\"dataframe\">\n",
              "  <thead>\n",
              "    <tr style=\"text-align: right;\">\n",
              "      <th></th>\n",
              "      <th>NDC11</th>\n",
              "      <th>Part</th>\n",
              "      <th>Image</th>\n",
              "      <th>Layout</th>\n",
              "      <th>Name</th>\n",
              "    </tr>\n",
              "  </thead>\n",
              "  <tbody>\n",
              "    <tr>\n",
              "      <th>2</th>\n",
              "      <td>2322730</td>\n",
              "      <td>1</td>\n",
              "      <td>/content/images/images/79U-YY6M1UUR6F127ZMACIW...</td>\n",
              "      <td>C3PI_Test</td>\n",
              "      <td>114</td>\n",
              "    </tr>\n",
              "    <tr>\n",
              "      <th>3</th>\n",
              "      <td>2322730</td>\n",
              "      <td>1</td>\n",
              "      <td>/content/images/images/7WVFV5H74!ELFNQ_GUH92E9...</td>\n",
              "      <td>C3PI_Test</td>\n",
              "      <td>114</td>\n",
              "    </tr>\n",
              "    <tr>\n",
              "      <th>32</th>\n",
              "      <td>2322830</td>\n",
              "      <td>1</td>\n",
              "      <td>/content/images/images/ZE6YLGQVM5S1CK6YI_DLIDW...</td>\n",
              "      <td>C3PI_Test</td>\n",
              "      <td>114</td>\n",
              "    </tr>\n",
              "    <tr>\n",
              "      <th>33</th>\n",
              "      <td>2322830</td>\n",
              "      <td>1</td>\n",
              "      <td>/content/images/images/6I3-4B_PW66465QR7ANNTSZ...</td>\n",
              "      <td>C3PI_Test</td>\n",
              "      <td>114</td>\n",
              "    </tr>\n",
              "    <tr>\n",
              "      <th>34</th>\n",
              "      <td>2322830</td>\n",
              "      <td>1</td>\n",
              "      <td>/content/images/images/B-FYXX8OS1YRV94N!KEU3DI...</td>\n",
              "      <td>C3PI_Test</td>\n",
              "      <td>114</td>\n",
              "    </tr>\n",
              "    <tr>\n",
              "      <th>...</th>\n",
              "      <td>...</td>\n",
              "      <td>...</td>\n",
              "      <td>...</td>\n",
              "      <td>...</td>\n",
              "      <td>...</td>\n",
              "    </tr>\n",
              "    <tr>\n",
              "      <th>133278</th>\n",
              "      <td>69543012010</td>\n",
              "      <td>1</td>\n",
              "      <td>/content/images/images/T04WSOMHW!MD3-ZBZ5LGQDZ...</td>\n",
              "      <td>MC_SPL_SPLIMAGE_V3.0</td>\n",
              "      <td>0</td>\n",
              "    </tr>\n",
              "    <tr>\n",
              "      <th>133401</th>\n",
              "      <td>76439010250</td>\n",
              "      <td>1</td>\n",
              "      <td>/content/images/images/VE37KW_1GX74CGVIIKNWSXS...</td>\n",
              "      <td>MC_API_RXNAV_V1.3</td>\n",
              "      <td>25</td>\n",
              "    </tr>\n",
              "    <tr>\n",
              "      <th>133482</th>\n",
              "      <td>76439012410</td>\n",
              "      <td>1</td>\n",
              "      <td>/content/images/images/UB8HY3LDX-9ZD0W-G73LMPG...</td>\n",
              "      <td>MC_SPL_SPLIMAGE_V3.0</td>\n",
              "      <td>54</td>\n",
              "    </tr>\n",
              "    <tr>\n",
              "      <th>133485</th>\n",
              "      <td>76439012510</td>\n",
              "      <td>1</td>\n",
              "      <td>/content/images/images/B!6OH31X5YDJ!KY5TTW1I30...</td>\n",
              "      <td>MC_API_NLMIMAGE_V1.3</td>\n",
              "      <td>54</td>\n",
              "    </tr>\n",
              "    <tr>\n",
              "      <th>133499</th>\n",
              "      <td>76439012510</td>\n",
              "      <td>1</td>\n",
              "      <td>/content/images/images/XX45L0DJY13ZC1W4NKM!HZA...</td>\n",
              "      <td>MC_SPL_SPLIMAGE_V3.0</td>\n",
              "      <td>54</td>\n",
              "    </tr>\n",
              "  </tbody>\n",
              "</table>\n",
              "<p>4390 rows × 5 columns</p>\n",
              "</div>\n",
              "      <button class=\"colab-df-convert\" onclick=\"convertToInteractive('df-14b90af2-a2ca-43a5-85f6-5ecbde306e79')\"\n",
              "              title=\"Convert this dataframe to an interactive table.\"\n",
              "              style=\"display:none;\">\n",
              "        \n",
              "  <svg xmlns=\"http://www.w3.org/2000/svg\" height=\"24px\"viewBox=\"0 0 24 24\"\n",
              "       width=\"24px\">\n",
              "    <path d=\"M0 0h24v24H0V0z\" fill=\"none\"/>\n",
              "    <path d=\"M18.56 5.44l.94 2.06.94-2.06 2.06-.94-2.06-.94-.94-2.06-.94 2.06-2.06.94zm-11 1L8.5 8.5l.94-2.06 2.06-.94-2.06-.94L8.5 2.5l-.94 2.06-2.06.94zm10 10l.94 2.06.94-2.06 2.06-.94-2.06-.94-.94-2.06-.94 2.06-2.06.94z\"/><path d=\"M17.41 7.96l-1.37-1.37c-.4-.4-.92-.59-1.43-.59-.52 0-1.04.2-1.43.59L10.3 9.45l-7.72 7.72c-.78.78-.78 2.05 0 2.83L4 21.41c.39.39.9.59 1.41.59.51 0 1.02-.2 1.41-.59l7.78-7.78 2.81-2.81c.8-.78.8-2.07 0-2.86zM5.41 20L4 18.59l7.72-7.72 1.47 1.35L5.41 20z\"/>\n",
              "  </svg>\n",
              "      </button>\n",
              "      \n",
              "  <style>\n",
              "    .colab-df-container {\n",
              "      display:flex;\n",
              "      flex-wrap:wrap;\n",
              "      gap: 12px;\n",
              "    }\n",
              "\n",
              "    .colab-df-convert {\n",
              "      background-color: #E8F0FE;\n",
              "      border: none;\n",
              "      border-radius: 50%;\n",
              "      cursor: pointer;\n",
              "      display: none;\n",
              "      fill: #1967D2;\n",
              "      height: 32px;\n",
              "      padding: 0 0 0 0;\n",
              "      width: 32px;\n",
              "    }\n",
              "\n",
              "    .colab-df-convert:hover {\n",
              "      background-color: #E2EBFA;\n",
              "      box-shadow: 0px 1px 2px rgba(60, 64, 67, 0.3), 0px 1px 3px 1px rgba(60, 64, 67, 0.15);\n",
              "      fill: #174EA6;\n",
              "    }\n",
              "\n",
              "    [theme=dark] .colab-df-convert {\n",
              "      background-color: #3B4455;\n",
              "      fill: #D2E3FC;\n",
              "    }\n",
              "\n",
              "    [theme=dark] .colab-df-convert:hover {\n",
              "      background-color: #434B5C;\n",
              "      box-shadow: 0px 1px 3px 1px rgba(0, 0, 0, 0.15);\n",
              "      filter: drop-shadow(0px 1px 2px rgba(0, 0, 0, 0.3));\n",
              "      fill: #FFFFFF;\n",
              "    }\n",
              "  </style>\n",
              "\n",
              "      <script>\n",
              "        const buttonEl =\n",
              "          document.querySelector('#df-14b90af2-a2ca-43a5-85f6-5ecbde306e79 button.colab-df-convert');\n",
              "        buttonEl.style.display =\n",
              "          google.colab.kernel.accessAllowed ? 'block' : 'none';\n",
              "\n",
              "        async function convertToInteractive(key) {\n",
              "          const element = document.querySelector('#df-14b90af2-a2ca-43a5-85f6-5ecbde306e79');\n",
              "          const dataTable =\n",
              "            await google.colab.kernel.invokeFunction('convertToInteractive',\n",
              "                                                     [key], {});\n",
              "          if (!dataTable) return;\n",
              "\n",
              "          const docLinkHtml = 'Like what you see? Visit the ' +\n",
              "            '<a target=\"_blank\" href=https://colab.research.google.com/notebooks/data_table.ipynb>data table notebook</a>'\n",
              "            + ' to learn more about interactive tables.';\n",
              "          element.innerHTML = '';\n",
              "          dataTable['output_type'] = 'display_data';\n",
              "          await google.colab.output.renderOutput(dataTable, element);\n",
              "          const docLink = document.createElement('div');\n",
              "          docLink.innerHTML = docLinkHtml;\n",
              "          element.appendChild(docLink);\n",
              "        }\n",
              "      </script>\n",
              "    </div>\n",
              "  </div>\n",
              "  "
            ],
            "text/plain": [
              "              NDC11  Part                                              Image  \\\n",
              "2           2322730     1  /content/images/images/79U-YY6M1UUR6F127ZMACIW...   \n",
              "3           2322730     1  /content/images/images/7WVFV5H74!ELFNQ_GUH92E9...   \n",
              "32          2322830     1  /content/images/images/ZE6YLGQVM5S1CK6YI_DLIDW...   \n",
              "33          2322830     1  /content/images/images/6I3-4B_PW66465QR7ANNTSZ...   \n",
              "34          2322830     1  /content/images/images/B-FYXX8OS1YRV94N!KEU3DI...   \n",
              "...             ...   ...                                                ...   \n",
              "133278  69543012010     1  /content/images/images/T04WSOMHW!MD3-ZBZ5LGQDZ...   \n",
              "133401  76439010250     1  /content/images/images/VE37KW_1GX74CGVIIKNWSXS...   \n",
              "133482  76439012410     1  /content/images/images/UB8HY3LDX-9ZD0W-G73LMPG...   \n",
              "133485  76439012510     1  /content/images/images/B!6OH31X5YDJ!KY5TTW1I30...   \n",
              "133499  76439012510     1  /content/images/images/XX45L0DJY13ZC1W4NKM!HZA...   \n",
              "\n",
              "                      Layout  Name  \n",
              "2                  C3PI_Test   114  \n",
              "3                  C3PI_Test   114  \n",
              "32                 C3PI_Test   114  \n",
              "33                 C3PI_Test   114  \n",
              "34                 C3PI_Test   114  \n",
              "...                      ...   ...  \n",
              "133278  MC_SPL_SPLIMAGE_V3.0     0  \n",
              "133401     MC_API_RXNAV_V1.3    25  \n",
              "133482  MC_SPL_SPLIMAGE_V3.0    54  \n",
              "133485  MC_API_NLMIMAGE_V1.3    54  \n",
              "133499  MC_SPL_SPLIMAGE_V3.0    54  \n",
              "\n",
              "[4390 rows x 5 columns]"
            ]
          },
          "execution_count": 17,
          "metadata": {},
          "output_type": "execute_result"
        }
      ],
      "source": [
        "from sklearn.preprocessing import LabelEncoder\n",
        "le = LabelEncoder()\n",
        "res['Name'] = le.fit_transform(res['Name'])\n",
        "res"
      ]
    },
    {
      "cell_type": "code",
      "execution_count": 18,
      "metadata": {
        "id": "xxxLJZ-dAksc"
      },
      "outputs": [],
      "source": [
        "from sklearn.model_selection import train_test_split\n",
        "y = res[\"Name\"]\n",
        "res = res.drop(\"Name\", axis = 1)"
      ]
    },
    {
      "cell_type": "code",
      "execution_count": 19,
      "metadata": {
        "id": "IIAxjfwcAmTQ"
      },
      "outputs": [],
      "source": [
        "paths = res[\"Image\"]\n",
        "X_train, X_test, y_train, y_test = train_test_split(paths, y, test_size=0.25, random_state=11)"
      ]
    },
    {
      "cell_type": "code",
      "execution_count": 20,
      "metadata": {
        "id": "04oJzL17AnWu"
      },
      "outputs": [],
      "source": [
        "X_train = X_train.reset_index()\n",
        "X_test = X_test.reset_index()"
      ]
    },
    {
      "cell_type": "code",
      "execution_count": null,
      "metadata": {},
      "outputs": [],
      "source": [
        "import cv2\n",
        "import imutils"
      ]
    },
    {
      "cell_type": "code",
      "execution_count": 21,
      "metadata": {
        "id": "sDMxcVqdAspc"
      },
      "outputs": [],
      "source": [
        "import pandas as pd\n",
        "import joblib\n",
        "import numpy as np\n",
        "import torch\n",
        "import random\n",
        "import albumentations\n",
        "import matplotlib.pyplot as plt\n",
        "import argparse\n",
        "import torch.nn as nn\n",
        "import torch.nn.functional as F\n",
        "import torch.optim as optim\n",
        "import time\n",
        "from PIL import Image\n",
        "from tqdm import tqdm\n",
        "from torchvision import models as models\n",
        "from sklearn.model_selection import train_test_split\n",
        "from torch.utils.data import Dataset, DataLoader"
      ]
    },
    {
      "cell_type": "code",
      "execution_count": 22,
      "metadata": {
        "id": "5HJUfKQDAoVd"
      },
      "outputs": [],
      "source": [
        "# image dataset module\n",
        "class NaturalImageDataset(Dataset):\n",
        "    def __init__(self, path, labels, tfms=None):\n",
        "        self.X = path\n",
        "        self.y = labels\n",
        "        # apply augmentations\n",
        "        if tfms == 0: # if validating\n",
        "            self.aug = albumentations.Compose([\n",
        "                albumentations.Resize(128, 128, always_apply=True),\n",
        "                albumentations.Normalize(mean=[0.485, 0.456, 0.406],\n",
        "                          std=[0.229, 0.224, 0.225], always_apply=True)\n",
        "            ])\n",
        "        else: # if training\n",
        "            self.aug = albumentations.Compose([\n",
        "                albumentations.Resize(128, 128, always_apply=True),\n",
        "                albumentations.HorizontalFlip(p=1.0),\n",
        "                albumentations.ShiftScaleRotate(\n",
        "                    shift_limit=0.3,\n",
        "                    scale_limit=0.3,\n",
        "                    rotate_limit=30,\n",
        "                    p=1.0\n",
        "                ),\n",
        "                albumentations.Normalize(mean=[0.485, 0.456, 0.406],\n",
        "                          std=[0.229, 0.224, 0.225], always_apply=True)\n",
        "            ])\n",
        "    def __len__(self):\n",
        "        return (len(self.X))\n",
        "    \n",
        "    def __getitem__(self, i):\n",
        "        #image = Image.open(self.X.iloc[i].values[1])\n",
        "        img = cv2.imread(self.X.iloc[i].values[1])\n",
        "\n",
        "        # Convert from BGR to HSV color space\n",
        "        hsv = cv2.cvtColor(img, cv2.COLOR_BGR2HSV)\n",
        "\n",
        "        # Get the saturation plane - all black/white/gray pixels are zero, and colored pixels are above zero.\n",
        "        s = hsv[:, :, 1]\n",
        "\n",
        "        #cv2.imwrite('s.png', s)\n",
        "\n",
        "        # Apply threshold on s - use automatic threshold algorithm (use THRESH_OTSU).\n",
        "        ret, thresh = cv2.threshold(s, 0, 255, cv2.THRESH_BINARY+cv2.THRESH_OTSU)\n",
        "\n",
        "        # Find contours\n",
        "        cnts = cv2.findContours(thresh, cv2.RETR_EXTERNAL, cv2.CHAIN_APPROX_NONE)\n",
        "        cnts = imutils.grab_contours(cnts) \n",
        "\n",
        "        # Find the contour with the maximum area.\n",
        "        c = max(cnts, key=cv2.contourArea)\n",
        "\n",
        "        # Get bounding rectangle\n",
        "        x, y, w, h = cv2.boundingRect(c)\n",
        "\n",
        "        # Crop the bounding rectangle out of img\n",
        "        out = img[y:y+h, x:x+w, :].copy()\n",
        "        image = self.aug(image=out)['image']\n",
        "        image = np.transpose(image, (2, 0, 1)).astype(np.float32)\n",
        "        label = self.y.iloc[i]\n",
        "        return torch.tensor(image, dtype=torch.float), torch.tensor(label, dtype=torch.long)"
      ]
    },
    {
      "cell_type": "code",
      "execution_count": 23,
      "metadata": {
        "id": "66Qbb1WDAyIm"
      },
      "outputs": [],
      "source": [
        "train_data = NaturalImageDataset(X_train, y_train, tfms=1)\n",
        "test_data = NaturalImageDataset(X_test, y_test, tfms=0)\n",
        " \n",
        "# dataloaders\n",
        "trainloader = DataLoader(train_data, batch_size=16, shuffle=True)\n",
        "testloader = DataLoader(test_data, batch_size=16, shuffle=False)"
      ]
    },
    {
      "cell_type": "code",
      "execution_count": 24,
      "metadata": {
        "colab": {
          "base_uri": "https://localhost:8080/"
        },
        "id": "DNKb4JVCBDYv",
        "outputId": "43a2cf7b-d121-4dcd-e87c-89c140204864"
      },
      "outputs": [
        {
          "name": "stdout",
          "output_type": "stream",
          "text": [
            "Computation device: cuda:0\n"
          ]
        }
      ],
      "source": [
        "def seed_everything(SEED=42):\n",
        "    random.seed(SEED)\n",
        "    np.random.seed(SEED)\n",
        "    torch.manual_seed(SEED)\n",
        "    torch.cuda.manual_seed(SEED)\n",
        "    torch.cuda.manual_seed_all(SEED)\n",
        "    torch.backends.cudnn.benchmark = True \n",
        "    \n",
        "SEED=42\n",
        "seed_everything(SEED=SEED)\n",
        "device = ('cuda:0' if torch.cuda.is_available() else 'cpu')\n",
        "print(f\"Computation device: {device}\")"
      ]
    },
    {
      "cell_type": "code",
      "execution_count": 25,
      "metadata": {
        "colab": {
          "base_uri": "https://localhost:8080/"
        },
        "id": "vf3SgSE0q6qD",
        "outputId": "5cc30296-f69f-4e6d-864e-195e070826fa"
      },
      "outputs": [
        {
          "data": {
            "text/plain": [
              "130"
            ]
          },
          "execution_count": 25,
          "metadata": {},
          "output_type": "execute_result"
        }
      ],
      "source": [
        "len(le.classes_)"
      ]
    },
    {
      "cell_type": "code",
      "execution_count": 26,
      "metadata": {
        "id": "H_3oz8pbA8al"
      },
      "outputs": [],
      "source": [
        "def build_model(pretrained=True, fine_tune=True, num_classes=len(le.classes_)):\n",
        "    if pretrained:\n",
        "        print('[INFO]: Loading pre-trained weights')\n",
        "    else:\n",
        "        print('[INFO]: Not loading pre-trained weights')\n",
        "    model = models.convnext_base(pretrained=pretrained)\n",
        "    if fine_tune:\n",
        "        print('[INFO]: Fine-tuning all layers...')\n",
        "        for params in model.parameters():\n",
        "            params.requires_grad = True\n",
        "    elif not fine_tune:\n",
        "        print('[INFO]: Freezing hidden layers...')\n",
        "        for params in model.parameters():\n",
        "            params.requires_grad = False\n",
        "    # Change the final classification head.\n",
        "    model.classifier[2] = nn.Linear(in_features=1024, out_features=num_classes)\n",
        "    return model"
      ]
    },
    {
      "cell_type": "code",
      "execution_count": 27,
      "metadata": {
        "colab": {
          "base_uri": "https://localhost:8080/",
          "height": 196,
          "referenced_widgets": [
            "36de671327ad4b5eb721ae67ac87cd56",
            "57b98e439184448c82ea2e2037e5803b",
            "83d6ad9a599d4fdeabf5bcecdef21ccf",
            "6146664f165b408cb8164e9048080195",
            "fe0ba740c1144ebc9bfba1278245da94",
            "b6959db30ed64d8dacc4da929ab8b225",
            "4c69a66532af447a8c2b7695dfe5937b",
            "96a63e63486e44bd90585fc375471318",
            "3ed34e26234e466cb1543bf5f79c7290",
            "914223b0c54b4131a0783370e7c87bb7",
            "15e26f57c86d48c1a96cd761283bb0cc"
          ]
        },
        "id": "yd0-iySuqDxK",
        "outputId": "be2ace6d-70cb-4266-cd12-ed5c1a3c889f"
      },
      "outputs": [
        {
          "name": "stdout",
          "output_type": "stream",
          "text": [
            "[INFO]: Loading pre-trained weights\n"
          ]
        },
        {
          "name": "stderr",
          "output_type": "stream",
          "text": [
            "/usr/local/lib/python3.7/dist-packages/torchvision/models/_utils.py:209: UserWarning: The parameter 'pretrained' is deprecated since 0.13 and will be removed in 0.15, please use 'weights' instead.\n",
            "  f\"The parameter '{pretrained_param}' is deprecated since 0.13 and will be removed in 0.15, \"\n",
            "/usr/local/lib/python3.7/dist-packages/torchvision/models/_utils.py:223: UserWarning: Arguments other than a weight enum or `None` for 'weights' are deprecated since 0.13 and will be removed in 0.15. The current behavior is equivalent to passing `weights=ConvNeXt_Base_Weights.IMAGENET1K_V1`. You can also use `weights=ConvNeXt_Base_Weights.DEFAULT` to get the most up-to-date weights.\n",
            "  warnings.warn(msg)\n",
            "Downloading: \"https://download.pytorch.org/models/convnext_base-6075fbad.pth\" to /root/.cache/torch/hub/checkpoints/convnext_base-6075fbad.pth\n"
          ]
        },
        {
          "data": {
            "application/vnd.jupyter.widget-view+json": {
              "model_id": "36de671327ad4b5eb721ae67ac87cd56",
              "version_major": 2,
              "version_minor": 0
            },
            "text/plain": [
              "  0%|          | 0.00/338M [00:00<?, ?B/s]"
            ]
          },
          "metadata": {},
          "output_type": "display_data"
        },
        {
          "name": "stdout",
          "output_type": "stream",
          "text": [
            "[INFO]: Freezing hidden layers...\n"
          ]
        }
      ],
      "source": [
        "model = build_model(\n",
        "        pretrained='pretrained', \n",
        "        fine_tune=False, \n",
        "        num_classes=len(le.classes_)\n",
        "    ).to(device)"
      ]
    },
    {
      "cell_type": "code",
      "execution_count": 28,
      "metadata": {
        "colab": {
          "base_uri": "https://localhost:8080/"
        },
        "id": "bAIHcwEUNQCy",
        "outputId": "5ccd5f35-3f9b-4ff4-9210-77020b80484f"
      },
      "outputs": [
        {
          "data": {
            "text/plain": [
              "ConvNeXt(\n",
              "  (features): Sequential(\n",
              "    (0): Conv2dNormActivation(\n",
              "      (0): Conv2d(3, 128, kernel_size=(4, 4), stride=(4, 4))\n",
              "      (1): LayerNorm2d((128,), eps=1e-06, elementwise_affine=True)\n",
              "    )\n",
              "    (1): Sequential(\n",
              "      (0): CNBlock(\n",
              "        (block): Sequential(\n",
              "          (0): Conv2d(128, 128, kernel_size=(7, 7), stride=(1, 1), padding=(3, 3), groups=128)\n",
              "          (1): Permute()\n",
              "          (2): LayerNorm((128,), eps=1e-06, elementwise_affine=True)\n",
              "          (3): Linear(in_features=128, out_features=512, bias=True)\n",
              "          (4): GELU(approximate=none)\n",
              "          (5): Linear(in_features=512, out_features=128, bias=True)\n",
              "          (6): Permute()\n",
              "        )\n",
              "        (stochastic_depth): StochasticDepth(p=0.0, mode=row)\n",
              "      )\n",
              "      (1): CNBlock(\n",
              "        (block): Sequential(\n",
              "          (0): Conv2d(128, 128, kernel_size=(7, 7), stride=(1, 1), padding=(3, 3), groups=128)\n",
              "          (1): Permute()\n",
              "          (2): LayerNorm((128,), eps=1e-06, elementwise_affine=True)\n",
              "          (3): Linear(in_features=128, out_features=512, bias=True)\n",
              "          (4): GELU(approximate=none)\n",
              "          (5): Linear(in_features=512, out_features=128, bias=True)\n",
              "          (6): Permute()\n",
              "        )\n",
              "        (stochastic_depth): StochasticDepth(p=0.014285714285714285, mode=row)\n",
              "      )\n",
              "      (2): CNBlock(\n",
              "        (block): Sequential(\n",
              "          (0): Conv2d(128, 128, kernel_size=(7, 7), stride=(1, 1), padding=(3, 3), groups=128)\n",
              "          (1): Permute()\n",
              "          (2): LayerNorm((128,), eps=1e-06, elementwise_affine=True)\n",
              "          (3): Linear(in_features=128, out_features=512, bias=True)\n",
              "          (4): GELU(approximate=none)\n",
              "          (5): Linear(in_features=512, out_features=128, bias=True)\n",
              "          (6): Permute()\n",
              "        )\n",
              "        (stochastic_depth): StochasticDepth(p=0.02857142857142857, mode=row)\n",
              "      )\n",
              "    )\n",
              "    (2): Sequential(\n",
              "      (0): LayerNorm2d((128,), eps=1e-06, elementwise_affine=True)\n",
              "      (1): Conv2d(128, 256, kernel_size=(2, 2), stride=(2, 2))\n",
              "    )\n",
              "    (3): Sequential(\n",
              "      (0): CNBlock(\n",
              "        (block): Sequential(\n",
              "          (0): Conv2d(256, 256, kernel_size=(7, 7), stride=(1, 1), padding=(3, 3), groups=256)\n",
              "          (1): Permute()\n",
              "          (2): LayerNorm((256,), eps=1e-06, elementwise_affine=True)\n",
              "          (3): Linear(in_features=256, out_features=1024, bias=True)\n",
              "          (4): GELU(approximate=none)\n",
              "          (5): Linear(in_features=1024, out_features=256, bias=True)\n",
              "          (6): Permute()\n",
              "        )\n",
              "        (stochastic_depth): StochasticDepth(p=0.04285714285714286, mode=row)\n",
              "      )\n",
              "      (1): CNBlock(\n",
              "        (block): Sequential(\n",
              "          (0): Conv2d(256, 256, kernel_size=(7, 7), stride=(1, 1), padding=(3, 3), groups=256)\n",
              "          (1): Permute()\n",
              "          (2): LayerNorm((256,), eps=1e-06, elementwise_affine=True)\n",
              "          (3): Linear(in_features=256, out_features=1024, bias=True)\n",
              "          (4): GELU(approximate=none)\n",
              "          (5): Linear(in_features=1024, out_features=256, bias=True)\n",
              "          (6): Permute()\n",
              "        )\n",
              "        (stochastic_depth): StochasticDepth(p=0.05714285714285714, mode=row)\n",
              "      )\n",
              "      (2): CNBlock(\n",
              "        (block): Sequential(\n",
              "          (0): Conv2d(256, 256, kernel_size=(7, 7), stride=(1, 1), padding=(3, 3), groups=256)\n",
              "          (1): Permute()\n",
              "          (2): LayerNorm((256,), eps=1e-06, elementwise_affine=True)\n",
              "          (3): Linear(in_features=256, out_features=1024, bias=True)\n",
              "          (4): GELU(approximate=none)\n",
              "          (5): Linear(in_features=1024, out_features=256, bias=True)\n",
              "          (6): Permute()\n",
              "        )\n",
              "        (stochastic_depth): StochasticDepth(p=0.07142857142857142, mode=row)\n",
              "      )\n",
              "    )\n",
              "    (4): Sequential(\n",
              "      (0): LayerNorm2d((256,), eps=1e-06, elementwise_affine=True)\n",
              "      (1): Conv2d(256, 512, kernel_size=(2, 2), stride=(2, 2))\n",
              "    )\n",
              "    (5): Sequential(\n",
              "      (0): CNBlock(\n",
              "        (block): Sequential(\n",
              "          (0): Conv2d(512, 512, kernel_size=(7, 7), stride=(1, 1), padding=(3, 3), groups=512)\n",
              "          (1): Permute()\n",
              "          (2): LayerNorm((512,), eps=1e-06, elementwise_affine=True)\n",
              "          (3): Linear(in_features=512, out_features=2048, bias=True)\n",
              "          (4): GELU(approximate=none)\n",
              "          (5): Linear(in_features=2048, out_features=512, bias=True)\n",
              "          (6): Permute()\n",
              "        )\n",
              "        (stochastic_depth): StochasticDepth(p=0.08571428571428572, mode=row)\n",
              "      )\n",
              "      (1): CNBlock(\n",
              "        (block): Sequential(\n",
              "          (0): Conv2d(512, 512, kernel_size=(7, 7), stride=(1, 1), padding=(3, 3), groups=512)\n",
              "          (1): Permute()\n",
              "          (2): LayerNorm((512,), eps=1e-06, elementwise_affine=True)\n",
              "          (3): Linear(in_features=512, out_features=2048, bias=True)\n",
              "          (4): GELU(approximate=none)\n",
              "          (5): Linear(in_features=2048, out_features=512, bias=True)\n",
              "          (6): Permute()\n",
              "        )\n",
              "        (stochastic_depth): StochasticDepth(p=0.1, mode=row)\n",
              "      )\n",
              "      (2): CNBlock(\n",
              "        (block): Sequential(\n",
              "          (0): Conv2d(512, 512, kernel_size=(7, 7), stride=(1, 1), padding=(3, 3), groups=512)\n",
              "          (1): Permute()\n",
              "          (2): LayerNorm((512,), eps=1e-06, elementwise_affine=True)\n",
              "          (3): Linear(in_features=512, out_features=2048, bias=True)\n",
              "          (4): GELU(approximate=none)\n",
              "          (5): Linear(in_features=2048, out_features=512, bias=True)\n",
              "          (6): Permute()\n",
              "        )\n",
              "        (stochastic_depth): StochasticDepth(p=0.11428571428571428, mode=row)\n",
              "      )\n",
              "      (3): CNBlock(\n",
              "        (block): Sequential(\n",
              "          (0): Conv2d(512, 512, kernel_size=(7, 7), stride=(1, 1), padding=(3, 3), groups=512)\n",
              "          (1): Permute()\n",
              "          (2): LayerNorm((512,), eps=1e-06, elementwise_affine=True)\n",
              "          (3): Linear(in_features=512, out_features=2048, bias=True)\n",
              "          (4): GELU(approximate=none)\n",
              "          (5): Linear(in_features=2048, out_features=512, bias=True)\n",
              "          (6): Permute()\n",
              "        )\n",
              "        (stochastic_depth): StochasticDepth(p=0.12857142857142856, mode=row)\n",
              "      )\n",
              "      (4): CNBlock(\n",
              "        (block): Sequential(\n",
              "          (0): Conv2d(512, 512, kernel_size=(7, 7), stride=(1, 1), padding=(3, 3), groups=512)\n",
              "          (1): Permute()\n",
              "          (2): LayerNorm((512,), eps=1e-06, elementwise_affine=True)\n",
              "          (3): Linear(in_features=512, out_features=2048, bias=True)\n",
              "          (4): GELU(approximate=none)\n",
              "          (5): Linear(in_features=2048, out_features=512, bias=True)\n",
              "          (6): Permute()\n",
              "        )\n",
              "        (stochastic_depth): StochasticDepth(p=0.14285714285714285, mode=row)\n",
              "      )\n",
              "      (5): CNBlock(\n",
              "        (block): Sequential(\n",
              "          (0): Conv2d(512, 512, kernel_size=(7, 7), stride=(1, 1), padding=(3, 3), groups=512)\n",
              "          (1): Permute()\n",
              "          (2): LayerNorm((512,), eps=1e-06, elementwise_affine=True)\n",
              "          (3): Linear(in_features=512, out_features=2048, bias=True)\n",
              "          (4): GELU(approximate=none)\n",
              "          (5): Linear(in_features=2048, out_features=512, bias=True)\n",
              "          (6): Permute()\n",
              "        )\n",
              "        (stochastic_depth): StochasticDepth(p=0.15714285714285714, mode=row)\n",
              "      )\n",
              "      (6): CNBlock(\n",
              "        (block): Sequential(\n",
              "          (0): Conv2d(512, 512, kernel_size=(7, 7), stride=(1, 1), padding=(3, 3), groups=512)\n",
              "          (1): Permute()\n",
              "          (2): LayerNorm((512,), eps=1e-06, elementwise_affine=True)\n",
              "          (3): Linear(in_features=512, out_features=2048, bias=True)\n",
              "          (4): GELU(approximate=none)\n",
              "          (5): Linear(in_features=2048, out_features=512, bias=True)\n",
              "          (6): Permute()\n",
              "        )\n",
              "        (stochastic_depth): StochasticDepth(p=0.17142857142857143, mode=row)\n",
              "      )\n",
              "      (7): CNBlock(\n",
              "        (block): Sequential(\n",
              "          (0): Conv2d(512, 512, kernel_size=(7, 7), stride=(1, 1), padding=(3, 3), groups=512)\n",
              "          (1): Permute()\n",
              "          (2): LayerNorm((512,), eps=1e-06, elementwise_affine=True)\n",
              "          (3): Linear(in_features=512, out_features=2048, bias=True)\n",
              "          (4): GELU(approximate=none)\n",
              "          (5): Linear(in_features=2048, out_features=512, bias=True)\n",
              "          (6): Permute()\n",
              "        )\n",
              "        (stochastic_depth): StochasticDepth(p=0.18571428571428572, mode=row)\n",
              "      )\n",
              "      (8): CNBlock(\n",
              "        (block): Sequential(\n",
              "          (0): Conv2d(512, 512, kernel_size=(7, 7), stride=(1, 1), padding=(3, 3), groups=512)\n",
              "          (1): Permute()\n",
              "          (2): LayerNorm((512,), eps=1e-06, elementwise_affine=True)\n",
              "          (3): Linear(in_features=512, out_features=2048, bias=True)\n",
              "          (4): GELU(approximate=none)\n",
              "          (5): Linear(in_features=2048, out_features=512, bias=True)\n",
              "          (6): Permute()\n",
              "        )\n",
              "        (stochastic_depth): StochasticDepth(p=0.2, mode=row)\n",
              "      )\n",
              "      (9): CNBlock(\n",
              "        (block): Sequential(\n",
              "          (0): Conv2d(512, 512, kernel_size=(7, 7), stride=(1, 1), padding=(3, 3), groups=512)\n",
              "          (1): Permute()\n",
              "          (2): LayerNorm((512,), eps=1e-06, elementwise_affine=True)\n",
              "          (3): Linear(in_features=512, out_features=2048, bias=True)\n",
              "          (4): GELU(approximate=none)\n",
              "          (5): Linear(in_features=2048, out_features=512, bias=True)\n",
              "          (6): Permute()\n",
              "        )\n",
              "        (stochastic_depth): StochasticDepth(p=0.21428571428571427, mode=row)\n",
              "      )\n",
              "      (10): CNBlock(\n",
              "        (block): Sequential(\n",
              "          (0): Conv2d(512, 512, kernel_size=(7, 7), stride=(1, 1), padding=(3, 3), groups=512)\n",
              "          (1): Permute()\n",
              "          (2): LayerNorm((512,), eps=1e-06, elementwise_affine=True)\n",
              "          (3): Linear(in_features=512, out_features=2048, bias=True)\n",
              "          (4): GELU(approximate=none)\n",
              "          (5): Linear(in_features=2048, out_features=512, bias=True)\n",
              "          (6): Permute()\n",
              "        )\n",
              "        (stochastic_depth): StochasticDepth(p=0.22857142857142856, mode=row)\n",
              "      )\n",
              "      (11): CNBlock(\n",
              "        (block): Sequential(\n",
              "          (0): Conv2d(512, 512, kernel_size=(7, 7), stride=(1, 1), padding=(3, 3), groups=512)\n",
              "          (1): Permute()\n",
              "          (2): LayerNorm((512,), eps=1e-06, elementwise_affine=True)\n",
              "          (3): Linear(in_features=512, out_features=2048, bias=True)\n",
              "          (4): GELU(approximate=none)\n",
              "          (5): Linear(in_features=2048, out_features=512, bias=True)\n",
              "          (6): Permute()\n",
              "        )\n",
              "        (stochastic_depth): StochasticDepth(p=0.24285714285714285, mode=row)\n",
              "      )\n",
              "      (12): CNBlock(\n",
              "        (block): Sequential(\n",
              "          (0): Conv2d(512, 512, kernel_size=(7, 7), stride=(1, 1), padding=(3, 3), groups=512)\n",
              "          (1): Permute()\n",
              "          (2): LayerNorm((512,), eps=1e-06, elementwise_affine=True)\n",
              "          (3): Linear(in_features=512, out_features=2048, bias=True)\n",
              "          (4): GELU(approximate=none)\n",
              "          (5): Linear(in_features=2048, out_features=512, bias=True)\n",
              "          (6): Permute()\n",
              "        )\n",
              "        (stochastic_depth): StochasticDepth(p=0.2571428571428571, mode=row)\n",
              "      )\n",
              "      (13): CNBlock(\n",
              "        (block): Sequential(\n",
              "          (0): Conv2d(512, 512, kernel_size=(7, 7), stride=(1, 1), padding=(3, 3), groups=512)\n",
              "          (1): Permute()\n",
              "          (2): LayerNorm((512,), eps=1e-06, elementwise_affine=True)\n",
              "          (3): Linear(in_features=512, out_features=2048, bias=True)\n",
              "          (4): GELU(approximate=none)\n",
              "          (5): Linear(in_features=2048, out_features=512, bias=True)\n",
              "          (6): Permute()\n",
              "        )\n",
              "        (stochastic_depth): StochasticDepth(p=0.2714285714285714, mode=row)\n",
              "      )\n",
              "      (14): CNBlock(\n",
              "        (block): Sequential(\n",
              "          (0): Conv2d(512, 512, kernel_size=(7, 7), stride=(1, 1), padding=(3, 3), groups=512)\n",
              "          (1): Permute()\n",
              "          (2): LayerNorm((512,), eps=1e-06, elementwise_affine=True)\n",
              "          (3): Linear(in_features=512, out_features=2048, bias=True)\n",
              "          (4): GELU(approximate=none)\n",
              "          (5): Linear(in_features=2048, out_features=512, bias=True)\n",
              "          (6): Permute()\n",
              "        )\n",
              "        (stochastic_depth): StochasticDepth(p=0.2857142857142857, mode=row)\n",
              "      )\n",
              "      (15): CNBlock(\n",
              "        (block): Sequential(\n",
              "          (0): Conv2d(512, 512, kernel_size=(7, 7), stride=(1, 1), padding=(3, 3), groups=512)\n",
              "          (1): Permute()\n",
              "          (2): LayerNorm((512,), eps=1e-06, elementwise_affine=True)\n",
              "          (3): Linear(in_features=512, out_features=2048, bias=True)\n",
              "          (4): GELU(approximate=none)\n",
              "          (5): Linear(in_features=2048, out_features=512, bias=True)\n",
              "          (6): Permute()\n",
              "        )\n",
              "        (stochastic_depth): StochasticDepth(p=0.3, mode=row)\n",
              "      )\n",
              "      (16): CNBlock(\n",
              "        (block): Sequential(\n",
              "          (0): Conv2d(512, 512, kernel_size=(7, 7), stride=(1, 1), padding=(3, 3), groups=512)\n",
              "          (1): Permute()\n",
              "          (2): LayerNorm((512,), eps=1e-06, elementwise_affine=True)\n",
              "          (3): Linear(in_features=512, out_features=2048, bias=True)\n",
              "          (4): GELU(approximate=none)\n",
              "          (5): Linear(in_features=2048, out_features=512, bias=True)\n",
              "          (6): Permute()\n",
              "        )\n",
              "        (stochastic_depth): StochasticDepth(p=0.3142857142857143, mode=row)\n",
              "      )\n",
              "      (17): CNBlock(\n",
              "        (block): Sequential(\n",
              "          (0): Conv2d(512, 512, kernel_size=(7, 7), stride=(1, 1), padding=(3, 3), groups=512)\n",
              "          (1): Permute()\n",
              "          (2): LayerNorm((512,), eps=1e-06, elementwise_affine=True)\n",
              "          (3): Linear(in_features=512, out_features=2048, bias=True)\n",
              "          (4): GELU(approximate=none)\n",
              "          (5): Linear(in_features=2048, out_features=512, bias=True)\n",
              "          (6): Permute()\n",
              "        )\n",
              "        (stochastic_depth): StochasticDepth(p=0.32857142857142857, mode=row)\n",
              "      )\n",
              "      (18): CNBlock(\n",
              "        (block): Sequential(\n",
              "          (0): Conv2d(512, 512, kernel_size=(7, 7), stride=(1, 1), padding=(3, 3), groups=512)\n",
              "          (1): Permute()\n",
              "          (2): LayerNorm((512,), eps=1e-06, elementwise_affine=True)\n",
              "          (3): Linear(in_features=512, out_features=2048, bias=True)\n",
              "          (4): GELU(approximate=none)\n",
              "          (5): Linear(in_features=2048, out_features=512, bias=True)\n",
              "          (6): Permute()\n",
              "        )\n",
              "        (stochastic_depth): StochasticDepth(p=0.34285714285714286, mode=row)\n",
              "      )\n",
              "      (19): CNBlock(\n",
              "        (block): Sequential(\n",
              "          (0): Conv2d(512, 512, kernel_size=(7, 7), stride=(1, 1), padding=(3, 3), groups=512)\n",
              "          (1): Permute()\n",
              "          (2): LayerNorm((512,), eps=1e-06, elementwise_affine=True)\n",
              "          (3): Linear(in_features=512, out_features=2048, bias=True)\n",
              "          (4): GELU(approximate=none)\n",
              "          (5): Linear(in_features=2048, out_features=512, bias=True)\n",
              "          (6): Permute()\n",
              "        )\n",
              "        (stochastic_depth): StochasticDepth(p=0.35714285714285715, mode=row)\n",
              "      )\n",
              "      (20): CNBlock(\n",
              "        (block): Sequential(\n",
              "          (0): Conv2d(512, 512, kernel_size=(7, 7), stride=(1, 1), padding=(3, 3), groups=512)\n",
              "          (1): Permute()\n",
              "          (2): LayerNorm((512,), eps=1e-06, elementwise_affine=True)\n",
              "          (3): Linear(in_features=512, out_features=2048, bias=True)\n",
              "          (4): GELU(approximate=none)\n",
              "          (5): Linear(in_features=2048, out_features=512, bias=True)\n",
              "          (6): Permute()\n",
              "        )\n",
              "        (stochastic_depth): StochasticDepth(p=0.37142857142857144, mode=row)\n",
              "      )\n",
              "      (21): CNBlock(\n",
              "        (block): Sequential(\n",
              "          (0): Conv2d(512, 512, kernel_size=(7, 7), stride=(1, 1), padding=(3, 3), groups=512)\n",
              "          (1): Permute()\n",
              "          (2): LayerNorm((512,), eps=1e-06, elementwise_affine=True)\n",
              "          (3): Linear(in_features=512, out_features=2048, bias=True)\n",
              "          (4): GELU(approximate=none)\n",
              "          (5): Linear(in_features=2048, out_features=512, bias=True)\n",
              "          (6): Permute()\n",
              "        )\n",
              "        (stochastic_depth): StochasticDepth(p=0.38571428571428573, mode=row)\n",
              "      )\n",
              "      (22): CNBlock(\n",
              "        (block): Sequential(\n",
              "          (0): Conv2d(512, 512, kernel_size=(7, 7), stride=(1, 1), padding=(3, 3), groups=512)\n",
              "          (1): Permute()\n",
              "          (2): LayerNorm((512,), eps=1e-06, elementwise_affine=True)\n",
              "          (3): Linear(in_features=512, out_features=2048, bias=True)\n",
              "          (4): GELU(approximate=none)\n",
              "          (5): Linear(in_features=2048, out_features=512, bias=True)\n",
              "          (6): Permute()\n",
              "        )\n",
              "        (stochastic_depth): StochasticDepth(p=0.4, mode=row)\n",
              "      )\n",
              "      (23): CNBlock(\n",
              "        (block): Sequential(\n",
              "          (0): Conv2d(512, 512, kernel_size=(7, 7), stride=(1, 1), padding=(3, 3), groups=512)\n",
              "          (1): Permute()\n",
              "          (2): LayerNorm((512,), eps=1e-06, elementwise_affine=True)\n",
              "          (3): Linear(in_features=512, out_features=2048, bias=True)\n",
              "          (4): GELU(approximate=none)\n",
              "          (5): Linear(in_features=2048, out_features=512, bias=True)\n",
              "          (6): Permute()\n",
              "        )\n",
              "        (stochastic_depth): StochasticDepth(p=0.4142857142857143, mode=row)\n",
              "      )\n",
              "      (24): CNBlock(\n",
              "        (block): Sequential(\n",
              "          (0): Conv2d(512, 512, kernel_size=(7, 7), stride=(1, 1), padding=(3, 3), groups=512)\n",
              "          (1): Permute()\n",
              "          (2): LayerNorm((512,), eps=1e-06, elementwise_affine=True)\n",
              "          (3): Linear(in_features=512, out_features=2048, bias=True)\n",
              "          (4): GELU(approximate=none)\n",
              "          (5): Linear(in_features=2048, out_features=512, bias=True)\n",
              "          (6): Permute()\n",
              "        )\n",
              "        (stochastic_depth): StochasticDepth(p=0.42857142857142855, mode=row)\n",
              "      )\n",
              "      (25): CNBlock(\n",
              "        (block): Sequential(\n",
              "          (0): Conv2d(512, 512, kernel_size=(7, 7), stride=(1, 1), padding=(3, 3), groups=512)\n",
              "          (1): Permute()\n",
              "          (2): LayerNorm((512,), eps=1e-06, elementwise_affine=True)\n",
              "          (3): Linear(in_features=512, out_features=2048, bias=True)\n",
              "          (4): GELU(approximate=none)\n",
              "          (5): Linear(in_features=2048, out_features=512, bias=True)\n",
              "          (6): Permute()\n",
              "        )\n",
              "        (stochastic_depth): StochasticDepth(p=0.44285714285714284, mode=row)\n",
              "      )\n",
              "      (26): CNBlock(\n",
              "        (block): Sequential(\n",
              "          (0): Conv2d(512, 512, kernel_size=(7, 7), stride=(1, 1), padding=(3, 3), groups=512)\n",
              "          (1): Permute()\n",
              "          (2): LayerNorm((512,), eps=1e-06, elementwise_affine=True)\n",
              "          (3): Linear(in_features=512, out_features=2048, bias=True)\n",
              "          (4): GELU(approximate=none)\n",
              "          (5): Linear(in_features=2048, out_features=512, bias=True)\n",
              "          (6): Permute()\n",
              "        )\n",
              "        (stochastic_depth): StochasticDepth(p=0.45714285714285713, mode=row)\n",
              "      )\n",
              "    )\n",
              "    (6): Sequential(\n",
              "      (0): LayerNorm2d((512,), eps=1e-06, elementwise_affine=True)\n",
              "      (1): Conv2d(512, 1024, kernel_size=(2, 2), stride=(2, 2))\n",
              "    )\n",
              "    (7): Sequential(\n",
              "      (0): CNBlock(\n",
              "        (block): Sequential(\n",
              "          (0): Conv2d(1024, 1024, kernel_size=(7, 7), stride=(1, 1), padding=(3, 3), groups=1024)\n",
              "          (1): Permute()\n",
              "          (2): LayerNorm((1024,), eps=1e-06, elementwise_affine=True)\n",
              "          (3): Linear(in_features=1024, out_features=4096, bias=True)\n",
              "          (4): GELU(approximate=none)\n",
              "          (5): Linear(in_features=4096, out_features=1024, bias=True)\n",
              "          (6): Permute()\n",
              "        )\n",
              "        (stochastic_depth): StochasticDepth(p=0.4714285714285714, mode=row)\n",
              "      )\n",
              "      (1): CNBlock(\n",
              "        (block): Sequential(\n",
              "          (0): Conv2d(1024, 1024, kernel_size=(7, 7), stride=(1, 1), padding=(3, 3), groups=1024)\n",
              "          (1): Permute()\n",
              "          (2): LayerNorm((1024,), eps=1e-06, elementwise_affine=True)\n",
              "          (3): Linear(in_features=1024, out_features=4096, bias=True)\n",
              "          (4): GELU(approximate=none)\n",
              "          (5): Linear(in_features=4096, out_features=1024, bias=True)\n",
              "          (6): Permute()\n",
              "        )\n",
              "        (stochastic_depth): StochasticDepth(p=0.4857142857142857, mode=row)\n",
              "      )\n",
              "      (2): CNBlock(\n",
              "        (block): Sequential(\n",
              "          (0): Conv2d(1024, 1024, kernel_size=(7, 7), stride=(1, 1), padding=(3, 3), groups=1024)\n",
              "          (1): Permute()\n",
              "          (2): LayerNorm((1024,), eps=1e-06, elementwise_affine=True)\n",
              "          (3): Linear(in_features=1024, out_features=4096, bias=True)\n",
              "          (4): GELU(approximate=none)\n",
              "          (5): Linear(in_features=4096, out_features=1024, bias=True)\n",
              "          (6): Permute()\n",
              "        )\n",
              "        (stochastic_depth): StochasticDepth(p=0.5, mode=row)\n",
              "      )\n",
              "    )\n",
              "  )\n",
              "  (avgpool): AdaptiveAvgPool2d(output_size=1)\n",
              "  (classifier): Sequential(\n",
              "    (0): LayerNorm2d((1024,), eps=1e-06, elementwise_affine=True)\n",
              "    (1): Flatten(start_dim=1, end_dim=-1)\n",
              "    (2): Linear(in_features=1024, out_features=130, bias=True)\n",
              "  )\n",
              ")"
            ]
          },
          "execution_count": 28,
          "metadata": {},
          "output_type": "execute_result"
        }
      ],
      "source": [
        "model"
      ]
    },
    {
      "cell_type": "code",
      "execution_count": 29,
      "metadata": {
        "id": "3hac8-1xA9sD"
      },
      "outputs": [],
      "source": [
        "# optimizer\n",
        "optimizer = optim.Adam(model.parameters(), lr=1e-4, weight_decay=0.0005)\n",
        "# loss function\n",
        "criterion = nn.CrossEntropyLoss()"
      ]
    },
    {
      "cell_type": "code",
      "execution_count": 30,
      "metadata": {
        "id": "HNhqW6WDBIMJ"
      },
      "outputs": [],
      "source": [
        "#validation function\n",
        "def validate(model, test_dataloader):\n",
        "    print('Validating')\n",
        "    model.eval()\n",
        "    val_running_loss = 0.0\n",
        "    val_running_correct = 0\n",
        "    with torch.no_grad():\n",
        "        for i, data in tqdm(enumerate(test_dataloader), total=int(len(test_data)/test_dataloader.batch_size)):\n",
        "            data, target = data[0].to(device), data[1].to(device)\n",
        "            outputs = model(data)\n",
        "            loss = criterion(outputs, target)\n",
        "            \n",
        "            val_running_loss += loss.item()\n",
        "            _, preds = torch.max(outputs.data, 1)\n",
        "            val_running_correct += (preds == target).sum().item()\n",
        "        \n",
        "        val_loss = val_running_loss/len(test_dataloader.dataset)\n",
        "        val_accuracy = 100. * val_running_correct/len(test_dataloader.dataset)\n",
        "        print(f'Val Loss: {val_loss:.4f}, Val Acc: {val_accuracy:.2f}')\n",
        "        \n",
        "        return val_loss, val_accuracy"
      ]
    },
    {
      "cell_type": "code",
      "execution_count": 31,
      "metadata": {
        "id": "jbZdvLpDBLXQ"
      },
      "outputs": [],
      "source": [
        "# training function\n",
        "def fit(model, train_dataloader):\n",
        "    print('Training')\n",
        "    model.train()\n",
        "    train_running_loss = 0.0\n",
        "    train_running_correct = 0\n",
        "    for i, data in tqdm(enumerate(train_dataloader), total=int(len(train_data)/train_dataloader.batch_size)):\n",
        "        data, target = data[0].to(device), data[1].to(device)\n",
        "        optimizer.zero_grad()\n",
        "        outputs = model(data)\n",
        "        loss = criterion(outputs, target)\n",
        "        train_running_loss += loss.item()\n",
        "        _, preds = torch.max(outputs.data, 1)\n",
        "        train_running_correct += (preds == target).sum().item()\n",
        "        loss.backward()\n",
        "        optimizer.step()\n",
        "        \n",
        "    train_loss = train_running_loss/len(train_dataloader.dataset)\n",
        "    train_accuracy = 100. * train_running_correct/len(train_dataloader.dataset)\n",
        "    \n",
        "    print(f\"Train Loss: {train_loss:.4f}, Train Acc: {train_accuracy:.2f}\")\n",
        "    \n",
        "    return train_loss, train_accuracy"
      ]
    },
    {
      "cell_type": "code",
      "execution_count": null,
      "metadata": {
        "colab": {
          "base_uri": "https://localhost:8080/"
        },
        "id": "nwzRV7LOBMny",
        "outputId": "ea98b373-0f2c-4158-cc79-b3fca33b13f4"
      },
      "outputs": [
        {
          "name": "stdout",
          "output_type": "stream",
          "text": [
            "Epoch 1 of 50\n",
            "Training\n"
          ]
        },
        {
          "name": "stderr",
          "output_type": "stream",
          "text": [
            "206it [06:14,  1.82s/it]\n"
          ]
        },
        {
          "name": "stdout",
          "output_type": "stream",
          "text": [
            "Train Loss: 0.3004, Train Acc: 2.04\n",
            "Validating\n"
          ]
        },
        {
          "name": "stderr",
          "output_type": "stream",
          "text": [
            "69it [01:59,  1.73s/it]\n"
          ]
        },
        {
          "name": "stdout",
          "output_type": "stream",
          "text": [
            "Val Loss: 0.2913, Val Acc: 4.28\n",
            "Detected network improvement, saving current model\n",
            "Epoch 2 of 50\n",
            "Training\n"
          ]
        },
        {
          "name": "stderr",
          "output_type": "stream",
          "text": [
            "206it [06:04,  1.77s/it]\n"
          ]
        },
        {
          "name": "stdout",
          "output_type": "stream",
          "text": [
            "Train Loss: 0.2860, Train Acc: 5.13\n",
            "Validating\n"
          ]
        },
        {
          "name": "stderr",
          "output_type": "stream",
          "text": [
            "69it [01:59,  1.73s/it]\n"
          ]
        },
        {
          "name": "stdout",
          "output_type": "stream",
          "text": [
            "Val Loss: 0.2821, Val Acc: 5.28\n",
            "Detected network improvement, saving current model\n",
            "Epoch 3 of 50\n",
            "Training\n"
          ]
        },
        {
          "name": "stderr",
          "output_type": "stream",
          "text": [
            "206it [06:00,  1.75s/it]\n"
          ]
        },
        {
          "name": "stdout",
          "output_type": "stream",
          "text": [
            "Train Loss: 0.2751, Train Acc: 7.65\n",
            "Validating\n"
          ]
        },
        {
          "name": "stderr",
          "output_type": "stream",
          "text": [
            "69it [01:58,  1.72s/it]\n"
          ]
        },
        {
          "name": "stdout",
          "output_type": "stream",
          "text": [
            "Val Loss: 0.2744, Val Acc: 8.01\n",
            "Detected network improvement, saving current model\n",
            "Epoch 4 of 50\n",
            "Training\n"
          ]
        },
        {
          "name": "stderr",
          "output_type": "stream",
          "text": [
            "206it [06:01,  1.76s/it]\n"
          ]
        },
        {
          "name": "stdout",
          "output_type": "stream",
          "text": [
            "Train Loss: 0.2669, Train Acc: 9.66\n",
            "Validating\n"
          ]
        },
        {
          "name": "stderr",
          "output_type": "stream",
          "text": [
            "69it [01:59,  1.73s/it]\n"
          ]
        },
        {
          "name": "stdout",
          "output_type": "stream",
          "text": [
            "Val Loss: 0.2681, Val Acc: 10.11\n",
            "Detected network improvement, saving current model\n",
            "Epoch 5 of 50\n",
            "Training\n"
          ]
        },
        {
          "name": "stderr",
          "output_type": "stream",
          "text": [
            "206it [06:03,  1.77s/it]\n"
          ]
        },
        {
          "name": "stdout",
          "output_type": "stream",
          "text": [
            "Train Loss: 0.2593, Train Acc: 11.48\n",
            "Validating\n"
          ]
        },
        {
          "name": "stderr",
          "output_type": "stream",
          "text": [
            "69it [01:59,  1.73s/it]\n"
          ]
        },
        {
          "name": "stdout",
          "output_type": "stream",
          "text": [
            "Val Loss: 0.2628, Val Acc: 11.02\n",
            "Detected network improvement, saving current model\n",
            "Epoch 6 of 50\n",
            "Training\n"
          ]
        },
        {
          "name": "stderr",
          "output_type": "stream",
          "text": [
            "206it [06:02,  1.76s/it]\n"
          ]
        },
        {
          "name": "stdout",
          "output_type": "stream",
          "text": [
            "Train Loss: 0.2526, Train Acc: 13.09\n",
            "Validating\n"
          ]
        },
        {
          "name": "stderr",
          "output_type": "stream",
          "text": [
            "69it [01:58,  1.72s/it]\n"
          ]
        },
        {
          "name": "stdout",
          "output_type": "stream",
          "text": [
            "Val Loss: 0.2583, Val Acc: 11.75\n",
            "Detected network improvement, saving current model\n",
            "Epoch 7 of 50\n",
            "Training\n"
          ]
        },
        {
          "name": "stderr",
          "output_type": "stream",
          "text": [
            "206it [06:03,  1.77s/it]\n"
          ]
        },
        {
          "name": "stdout",
          "output_type": "stream",
          "text": [
            "Train Loss: 0.2459, Train Acc: 16.31\n",
            "Validating\n"
          ]
        },
        {
          "name": "stderr",
          "output_type": "stream",
          "text": [
            "69it [01:59,  1.73s/it]\n"
          ]
        },
        {
          "name": "stdout",
          "output_type": "stream",
          "text": [
            "Val Loss: 0.2542, Val Acc: 12.66\n",
            "Detected network improvement, saving current model\n",
            "Epoch 8 of 50\n",
            "Training\n"
          ]
        },
        {
          "name": "stderr",
          "output_type": "stream",
          "text": [
            "206it [06:05,  1.78s/it]\n"
          ]
        },
        {
          "name": "stdout",
          "output_type": "stream",
          "text": [
            "Train Loss: 0.2411, Train Acc: 17.16\n",
            "Validating\n"
          ]
        },
        {
          "name": "stderr",
          "output_type": "stream",
          "text": [
            "69it [02:00,  1.74s/it]\n"
          ]
        },
        {
          "name": "stdout",
          "output_type": "stream",
          "text": [
            "Val Loss: 0.2506, Val Acc: 13.57\n",
            "Detected network improvement, saving current model\n",
            "Epoch 9 of 50\n",
            "Training\n"
          ]
        },
        {
          "name": "stderr",
          "output_type": "stream",
          "text": [
            "206it [06:01,  1.76s/it]\n"
          ]
        },
        {
          "name": "stdout",
          "output_type": "stream",
          "text": [
            "Train Loss: 0.2361, Train Acc: 17.95\n",
            "Validating\n"
          ]
        },
        {
          "name": "stderr",
          "output_type": "stream",
          "text": [
            "69it [01:59,  1.73s/it]\n"
          ]
        },
        {
          "name": "stdout",
          "output_type": "stream",
          "text": [
            "Val Loss: 0.2474, Val Acc: 14.21\n",
            "Detected network improvement, saving current model\n",
            "Epoch 10 of 50\n",
            "Training\n"
          ]
        },
        {
          "name": "stderr",
          "output_type": "stream",
          "text": [
            "206it [06:01,  1.75s/it]\n"
          ]
        },
        {
          "name": "stdout",
          "output_type": "stream",
          "text": [
            "Train Loss: 0.2317, Train Acc: 20.02\n",
            "Validating\n"
          ]
        },
        {
          "name": "stderr",
          "output_type": "stream",
          "text": [
            "69it [02:01,  1.76s/it]\n"
          ]
        },
        {
          "name": "stdout",
          "output_type": "stream",
          "text": [
            "Val Loss: 0.2447, Val Acc: 14.30\n",
            "Detected network improvement, saving current model\n",
            "Epoch 11 of 50\n",
            "Training\n"
          ]
        },
        {
          "name": "stderr",
          "output_type": "stream",
          "text": [
            "206it [06:04,  1.77s/it]\n"
          ]
        },
        {
          "name": "stdout",
          "output_type": "stream",
          "text": [
            "Train Loss: 0.2271, Train Acc: 20.08\n",
            "Validating\n"
          ]
        },
        {
          "name": "stderr",
          "output_type": "stream",
          "text": [
            "69it [01:59,  1.74s/it]\n"
          ]
        },
        {
          "name": "stdout",
          "output_type": "stream",
          "text": [
            "Val Loss: 0.2421, Val Acc: 15.03\n",
            "Detected network improvement, saving current model\n",
            "Epoch 12 of 50\n",
            "Training\n"
          ]
        },
        {
          "name": "stderr",
          "output_type": "stream",
          "text": [
            "206it [06:03,  1.76s/it]\n"
          ]
        },
        {
          "name": "stdout",
          "output_type": "stream",
          "text": [
            "Train Loss: 0.2235, Train Acc: 22.45\n",
            "Validating\n"
          ]
        },
        {
          "name": "stderr",
          "output_type": "stream",
          "text": [
            "69it [01:59,  1.73s/it]\n"
          ]
        },
        {
          "name": "stdout",
          "output_type": "stream",
          "text": [
            "Val Loss: 0.2397, Val Acc: 15.03\n",
            "Detected network improvement, saving current model\n",
            "Epoch 13 of 50\n",
            "Training\n"
          ]
        },
        {
          "name": "stderr",
          "output_type": "stream",
          "text": [
            "206it [06:03,  1.76s/it]\n"
          ]
        },
        {
          "name": "stdout",
          "output_type": "stream",
          "text": [
            "Train Loss: 0.2196, Train Acc: 23.33\n",
            "Validating\n"
          ]
        },
        {
          "name": "stderr",
          "output_type": "stream",
          "text": [
            "69it [01:59,  1.73s/it]\n"
          ]
        },
        {
          "name": "stdout",
          "output_type": "stream",
          "text": [
            "Val Loss: 0.2376, Val Acc: 15.30\n",
            "Detected network improvement, saving current model\n",
            "Epoch 14 of 50\n",
            "Training\n"
          ]
        },
        {
          "name": "stderr",
          "output_type": "stream",
          "text": [
            "206it [06:05,  1.77s/it]\n"
          ]
        },
        {
          "name": "stdout",
          "output_type": "stream",
          "text": [
            "Train Loss: 0.2166, Train Acc: 23.94\n",
            "Validating\n"
          ]
        },
        {
          "name": "stderr",
          "output_type": "stream",
          "text": [
            "69it [02:00,  1.75s/it]\n"
          ]
        },
        {
          "name": "stdout",
          "output_type": "stream",
          "text": [
            "Val Loss: 0.2356, Val Acc: 15.66\n",
            "Detected network improvement, saving current model\n",
            "Epoch 15 of 50\n",
            "Training\n"
          ]
        },
        {
          "name": "stderr",
          "output_type": "stream",
          "text": [
            "206it [06:04,  1.77s/it]\n"
          ]
        },
        {
          "name": "stdout",
          "output_type": "stream",
          "text": [
            "Train Loss: 0.2132, Train Acc: 26.52\n",
            "Validating\n"
          ]
        },
        {
          "name": "stderr",
          "output_type": "stream",
          "text": [
            "69it [01:59,  1.73s/it]\n"
          ]
        },
        {
          "name": "stdout",
          "output_type": "stream",
          "text": [
            "Val Loss: 0.2337, Val Acc: 16.30\n",
            "Detected network improvement, saving current model\n",
            "Epoch 16 of 50\n",
            "Training\n"
          ]
        },
        {
          "name": "stderr",
          "output_type": "stream",
          "text": [
            "206it [06:02,  1.76s/it]\n"
          ]
        },
        {
          "name": "stdout",
          "output_type": "stream",
          "text": [
            "Train Loss: 0.2106, Train Acc: 25.94\n",
            "Validating\n"
          ]
        },
        {
          "name": "stderr",
          "output_type": "stream",
          "text": [
            "69it [01:59,  1.73s/it]\n"
          ]
        },
        {
          "name": "stdout",
          "output_type": "stream",
          "text": [
            "Val Loss: 0.2322, Val Acc: 16.58\n",
            "Detected network improvement, saving current model\n",
            "Epoch 17 of 50\n",
            "Training\n"
          ]
        },
        {
          "name": "stderr",
          "output_type": "stream",
          "text": [
            "206it [06:04,  1.77s/it]\n"
          ]
        },
        {
          "name": "stdout",
          "output_type": "stream",
          "text": [
            "Train Loss: 0.2080, Train Acc: 26.31\n",
            "Validating\n"
          ]
        },
        {
          "name": "stderr",
          "output_type": "stream",
          "text": [
            "69it [01:59,  1.74s/it]\n"
          ]
        },
        {
          "name": "stdout",
          "output_type": "stream",
          "text": [
            "Val Loss: 0.2305, Val Acc: 16.67\n",
            "Detected network improvement, saving current model\n",
            "Epoch 18 of 50\n",
            "Training\n"
          ]
        },
        {
          "name": "stderr",
          "output_type": "stream",
          "text": [
            "206it [06:02,  1.76s/it]\n"
          ]
        },
        {
          "name": "stdout",
          "output_type": "stream",
          "text": [
            "Train Loss: 0.2043, Train Acc: 27.95\n",
            "Validating\n"
          ]
        },
        {
          "name": "stderr",
          "output_type": "stream",
          "text": [
            "69it [01:58,  1.72s/it]\n"
          ]
        },
        {
          "name": "stdout",
          "output_type": "stream",
          "text": [
            "Val Loss: 0.2293, Val Acc: 16.85\n",
            "Detected network improvement, saving current model\n",
            "Epoch 19 of 50\n",
            "Training\n"
          ]
        },
        {
          "name": "stderr",
          "output_type": "stream",
          "text": [
            "206it [06:02,  1.76s/it]\n"
          ]
        },
        {
          "name": "stdout",
          "output_type": "stream",
          "text": [
            "Train Loss: 0.2028, Train Acc: 28.19\n",
            "Validating\n"
          ]
        },
        {
          "name": "stderr",
          "output_type": "stream",
          "text": [
            "69it [01:58,  1.72s/it]\n"
          ]
        },
        {
          "name": "stdout",
          "output_type": "stream",
          "text": [
            "Val Loss: 0.2278, Val Acc: 17.67\n",
            "Detected network improvement, saving current model\n",
            "Epoch 20 of 50\n",
            "Training\n"
          ]
        },
        {
          "name": "stderr",
          "output_type": "stream",
          "text": [
            "206it [06:01,  1.75s/it]\n"
          ]
        },
        {
          "name": "stdout",
          "output_type": "stream",
          "text": [
            "Train Loss: 0.1995, Train Acc: 29.71\n",
            "Validating\n"
          ]
        },
        {
          "name": "stderr",
          "output_type": "stream",
          "text": [
            "69it [01:58,  1.72s/it]\n"
          ]
        },
        {
          "name": "stdout",
          "output_type": "stream",
          "text": [
            "Val Loss: 0.2266, Val Acc: 17.49\n",
            "Detected network improvement, saving current model\n",
            "Epoch 21 of 50\n",
            "Training\n"
          ]
        },
        {
          "name": "stderr",
          "output_type": "stream",
          "text": [
            "206it [06:01,  1.75s/it]\n"
          ]
        },
        {
          "name": "stdout",
          "output_type": "stream",
          "text": [
            "Train Loss: 0.1982, Train Acc: 29.71\n",
            "Validating\n"
          ]
        },
        {
          "name": "stderr",
          "output_type": "stream",
          "text": [
            "69it [01:58,  1.72s/it]\n"
          ]
        },
        {
          "name": "stdout",
          "output_type": "stream",
          "text": [
            "Val Loss: 0.2256, Val Acc: 18.12\n",
            "Detected network improvement, saving current model\n",
            "Epoch 22 of 50\n",
            "Training\n"
          ]
        },
        {
          "name": "stderr",
          "output_type": "stream",
          "text": [
            "206it [06:00,  1.75s/it]\n"
          ]
        },
        {
          "name": "stdout",
          "output_type": "stream",
          "text": [
            "Train Loss: 0.1957, Train Acc: 29.98\n",
            "Validating\n"
          ]
        },
        {
          "name": "stderr",
          "output_type": "stream",
          "text": [
            "69it [01:58,  1.72s/it]\n"
          ]
        },
        {
          "name": "stdout",
          "output_type": "stream",
          "text": [
            "Val Loss: 0.2243, Val Acc: 17.94\n",
            "Detected network improvement, saving current model\n",
            "Epoch 23 of 50\n",
            "Training\n"
          ]
        },
        {
          "name": "stderr",
          "output_type": "stream",
          "text": [
            "206it [05:59,  1.75s/it]\n"
          ]
        },
        {
          "name": "stdout",
          "output_type": "stream",
          "text": [
            "Train Loss: 0.1932, Train Acc: 30.74\n",
            "Validating\n"
          ]
        },
        {
          "name": "stderr",
          "output_type": "stream",
          "text": [
            "69it [01:59,  1.73s/it]\n"
          ]
        },
        {
          "name": "stdout",
          "output_type": "stream",
          "text": [
            "Val Loss: 0.2235, Val Acc: 18.49\n",
            "Detected network improvement, saving current model\n",
            "Epoch 24 of 50\n",
            "Training\n"
          ]
        },
        {
          "name": "stderr",
          "output_type": "stream",
          "text": [
            "206it [06:01,  1.75s/it]\n"
          ]
        },
        {
          "name": "stdout",
          "output_type": "stream",
          "text": [
            "Train Loss: 0.1925, Train Acc: 31.77\n",
            "Validating\n"
          ]
        },
        {
          "name": "stderr",
          "output_type": "stream",
          "text": [
            "69it [01:59,  1.73s/it]\n"
          ]
        },
        {
          "name": "stdout",
          "output_type": "stream",
          "text": [
            "Val Loss: 0.2224, Val Acc: 18.31\n",
            "Detected network improvement, saving current model\n",
            "Epoch 25 of 50\n",
            "Training\n"
          ]
        },
        {
          "name": "stderr",
          "output_type": "stream",
          "text": [
            "206it [05:59,  1.75s/it]\n"
          ]
        },
        {
          "name": "stdout",
          "output_type": "stream",
          "text": [
            "Train Loss: 0.1910, Train Acc: 31.04\n",
            "Validating\n"
          ]
        },
        {
          "name": "stderr",
          "output_type": "stream",
          "text": [
            "69it [01:58,  1.72s/it]\n"
          ]
        },
        {
          "name": "stdout",
          "output_type": "stream",
          "text": [
            "Val Loss: 0.2215, Val Acc: 18.94\n",
            "Detected network improvement, saving current model\n",
            "Epoch 26 of 50\n",
            "Training\n"
          ]
        },
        {
          "name": "stderr",
          "output_type": "stream",
          "text": [
            " 51%|█████     | 105/205 [03:06<03:03,  1.84s/it]"
          ]
        }
      ],
      "source": [
        "train_loss , train_accuracy = [], []\n",
        "val_loss , val_accuracy = [], []\n",
        "start = time.time()\n",
        "val_min = np.inf\n",
        "for epoch in range(50):\n",
        "    print(f\"Epoch {epoch+1} of {50}\")\n",
        "    train_epoch_loss, train_epoch_accuracy = fit(model, trainloader)\n",
        "    val_epoch_loss, val_epoch_accuracy = validate(model, testloader)\n",
        "    train_loss.append(train_epoch_loss)\n",
        "    train_accuracy.append(train_epoch_accuracy)\n",
        "    val_loss.append(val_epoch_loss)\n",
        "    val_accuracy.append(val_epoch_accuracy)\n",
        "    if(val_epoch_loss < val_min):\n",
        "      val_min = val_epoch_loss\n",
        "      torch.save(model.state_dict(), 'convnext_model.pt')\n",
        "      print('Detected network improvement, saving current model')\n",
        "    \n",
        "end = time.time()\n",
        "print(f\"{(end-start)/60:.3f} minutes\")"
      ]
    },
    {
      "cell_type": "code",
      "execution_count": null,
      "metadata": {
        "id": "vkjfEHLrgIwj"
      },
      "outputs": [],
      "source": [
        "# accuracy plots\n",
        "plt.figure(figsize=(10, 7))\n",
        "plt.plot(train_accuracy, color='green', label='train accuracy')\n",
        "plt.plot(val_accuracy, color='blue', label='validataion accuracy')\n",
        "plt.xlabel('Epochs')\n",
        "plt.ylabel('Accuracy')\n",
        "plt.legend()\n",
        "plt.show()\n",
        "\n",
        "# loss plots\n",
        "plt.figure(figsize=(10, 7))\n",
        "plt.plot(train_loss, color='orange', label='train loss')\n",
        "plt.plot(val_loss, color='red', label='validataion loss')\n",
        "plt.xlabel('Epochs')\n",
        "plt.ylabel('Loss')\n",
        "plt.legend()\n",
        "plt.show()"
      ]
    },
    {
      "cell_type": "code",
      "execution_count": null,
      "metadata": {
        "id": "qvpMBIG3gIsF"
      },
      "outputs": [],
      "source": [
        "model.eval()\n",
        "labels = []\n",
        "y_true = []\n",
        "with torch.no_grad():\n",
        "    for i, data in tqdm(enumerate(testloader), total=int(len(test_data)/testloader.batch_size)):\n",
        "            data, target = data[0].to(device), data[1].to(device)\n",
        "            outputs = model(data)\n",
        "            loss = criterion(outputs, target)\n",
        "            _, preds = torch.max(outputs.data, 1)\n",
        "            labels.append(preds.to('cpu').numpy())\n",
        "            y_true.append(target.to('cpu').numpy())\n"
      ]
    },
    {
      "cell_type": "code",
      "execution_count": null,
      "metadata": {
        "id": "4vRgxT36lyA2"
      },
      "outputs": [],
      "source": [
        "y_pred = [item for sublist in labels for item in sublist]"
      ]
    },
    {
      "cell_type": "code",
      "execution_count": null,
      "metadata": {
        "id": "bdK4X9B5mpch"
      },
      "outputs": [],
      "source": [
        "y_test =  [item for sublist in y_true for item in sublist]"
      ]
    },
    {
      "cell_type": "code",
      "execution_count": null,
      "metadata": {
        "colab": {
          "base_uri": "https://localhost:8080/"
        },
        "id": "wajGotysm3mF",
        "outputId": "be6364c5-0db0-48ba-8955-e70e89400e16"
      },
      "outputs": [
        {
          "data": {
            "text/plain": [
              "array(['levoxyl', 'levetiraceta', 'haloperidol', ...,\n",
              "       'levothyroxine sodium', 'levetiraceta', 'carvedilol'], dtype=object)"
            ]
          },
          "execution_count": 47,
          "metadata": {},
          "output_type": "execute_result"
        }
      ],
      "source": [
        "le.inverse_transform(y_pred)"
      ]
    },
    {
      "cell_type": "code",
      "execution_count": null,
      "metadata": {
        "id": "o7vS2KtxgIp6"
      },
      "outputs": [],
      "source": [
        "from sklearn.metrics import classification_report\n",
        "print(classification_report(le.inverse_transform(y_test), le.inverse_transform(y_pred)))"
      ]
    },
    {
      "cell_type": "code",
      "execution_count": null,
      "metadata": {
        "id": "csd42JETgIne"
      },
      "outputs": [],
      "source": []
    },
    {
      "cell_type": "code",
      "execution_count": null,
      "metadata": {
        "id": "lZrOMHINb2e3"
      },
      "outputs": [],
      "source": []
    }
  ],
  "metadata": {
    "accelerator": "GPU",
    "colab": {
      "provenance": []
    },
    "gpuClass": "standard",
    "kernelspec": {
      "display_name": "Python 3",
      "name": "python3"
    },
    "language_info": {
      "name": "python"
    },
    "widgets": {
      "application/vnd.jupyter.widget-state+json": {
        "15e26f57c86d48c1a96cd761283bb0cc": {
          "model_module": "@jupyter-widgets/controls",
          "model_module_version": "1.5.0",
          "model_name": "DescriptionStyleModel",
          "state": {
            "_model_module": "@jupyter-widgets/controls",
            "_model_module_version": "1.5.0",
            "_model_name": "DescriptionStyleModel",
            "_view_count": null,
            "_view_module": "@jupyter-widgets/base",
            "_view_module_version": "1.2.0",
            "_view_name": "StyleView",
            "description_width": ""
          }
        },
        "36de671327ad4b5eb721ae67ac87cd56": {
          "model_module": "@jupyter-widgets/controls",
          "model_module_version": "1.5.0",
          "model_name": "HBoxModel",
          "state": {
            "_dom_classes": [],
            "_model_module": "@jupyter-widgets/controls",
            "_model_module_version": "1.5.0",
            "_model_name": "HBoxModel",
            "_view_count": null,
            "_view_module": "@jupyter-widgets/controls",
            "_view_module_version": "1.5.0",
            "_view_name": "HBoxView",
            "box_style": "",
            "children": [
              "IPY_MODEL_57b98e439184448c82ea2e2037e5803b",
              "IPY_MODEL_83d6ad9a599d4fdeabf5bcecdef21ccf",
              "IPY_MODEL_6146664f165b408cb8164e9048080195"
            ],
            "layout": "IPY_MODEL_fe0ba740c1144ebc9bfba1278245da94"
          }
        },
        "3ed34e26234e466cb1543bf5f79c7290": {
          "model_module": "@jupyter-widgets/controls",
          "model_module_version": "1.5.0",
          "model_name": "ProgressStyleModel",
          "state": {
            "_model_module": "@jupyter-widgets/controls",
            "_model_module_version": "1.5.0",
            "_model_name": "ProgressStyleModel",
            "_view_count": null,
            "_view_module": "@jupyter-widgets/base",
            "_view_module_version": "1.2.0",
            "_view_name": "StyleView",
            "bar_color": null,
            "description_width": ""
          }
        },
        "4c69a66532af447a8c2b7695dfe5937b": {
          "model_module": "@jupyter-widgets/controls",
          "model_module_version": "1.5.0",
          "model_name": "DescriptionStyleModel",
          "state": {
            "_model_module": "@jupyter-widgets/controls",
            "_model_module_version": "1.5.0",
            "_model_name": "DescriptionStyleModel",
            "_view_count": null,
            "_view_module": "@jupyter-widgets/base",
            "_view_module_version": "1.2.0",
            "_view_name": "StyleView",
            "description_width": ""
          }
        },
        "57b98e439184448c82ea2e2037e5803b": {
          "model_module": "@jupyter-widgets/controls",
          "model_module_version": "1.5.0",
          "model_name": "HTMLModel",
          "state": {
            "_dom_classes": [],
            "_model_module": "@jupyter-widgets/controls",
            "_model_module_version": "1.5.0",
            "_model_name": "HTMLModel",
            "_view_count": null,
            "_view_module": "@jupyter-widgets/controls",
            "_view_module_version": "1.5.0",
            "_view_name": "HTMLView",
            "description": "",
            "description_tooltip": null,
            "layout": "IPY_MODEL_b6959db30ed64d8dacc4da929ab8b225",
            "placeholder": "​",
            "style": "IPY_MODEL_4c69a66532af447a8c2b7695dfe5937b",
            "value": "100%"
          }
        },
        "6146664f165b408cb8164e9048080195": {
          "model_module": "@jupyter-widgets/controls",
          "model_module_version": "1.5.0",
          "model_name": "HTMLModel",
          "state": {
            "_dom_classes": [],
            "_model_module": "@jupyter-widgets/controls",
            "_model_module_version": "1.5.0",
            "_model_name": "HTMLModel",
            "_view_count": null,
            "_view_module": "@jupyter-widgets/controls",
            "_view_module_version": "1.5.0",
            "_view_name": "HTMLView",
            "description": "",
            "description_tooltip": null,
            "layout": "IPY_MODEL_914223b0c54b4131a0783370e7c87bb7",
            "placeholder": "​",
            "style": "IPY_MODEL_15e26f57c86d48c1a96cd761283bb0cc",
            "value": " 338M/338M [00:02&lt;00:00, 182MB/s]"
          }
        },
        "83d6ad9a599d4fdeabf5bcecdef21ccf": {
          "model_module": "@jupyter-widgets/controls",
          "model_module_version": "1.5.0",
          "model_name": "FloatProgressModel",
          "state": {
            "_dom_classes": [],
            "_model_module": "@jupyter-widgets/controls",
            "_model_module_version": "1.5.0",
            "_model_name": "FloatProgressModel",
            "_view_count": null,
            "_view_module": "@jupyter-widgets/controls",
            "_view_module_version": "1.5.0",
            "_view_name": "ProgressView",
            "bar_style": "success",
            "description": "",
            "description_tooltip": null,
            "layout": "IPY_MODEL_96a63e63486e44bd90585fc375471318",
            "max": 354486097,
            "min": 0,
            "orientation": "horizontal",
            "style": "IPY_MODEL_3ed34e26234e466cb1543bf5f79c7290",
            "value": 354486097
          }
        },
        "914223b0c54b4131a0783370e7c87bb7": {
          "model_module": "@jupyter-widgets/base",
          "model_module_version": "1.2.0",
          "model_name": "LayoutModel",
          "state": {
            "_model_module": "@jupyter-widgets/base",
            "_model_module_version": "1.2.0",
            "_model_name": "LayoutModel",
            "_view_count": null,
            "_view_module": "@jupyter-widgets/base",
            "_view_module_version": "1.2.0",
            "_view_name": "LayoutView",
            "align_content": null,
            "align_items": null,
            "align_self": null,
            "border": null,
            "bottom": null,
            "display": null,
            "flex": null,
            "flex_flow": null,
            "grid_area": null,
            "grid_auto_columns": null,
            "grid_auto_flow": null,
            "grid_auto_rows": null,
            "grid_column": null,
            "grid_gap": null,
            "grid_row": null,
            "grid_template_areas": null,
            "grid_template_columns": null,
            "grid_template_rows": null,
            "height": null,
            "justify_content": null,
            "justify_items": null,
            "left": null,
            "margin": null,
            "max_height": null,
            "max_width": null,
            "min_height": null,
            "min_width": null,
            "object_fit": null,
            "object_position": null,
            "order": null,
            "overflow": null,
            "overflow_x": null,
            "overflow_y": null,
            "padding": null,
            "right": null,
            "top": null,
            "visibility": null,
            "width": null
          }
        },
        "96a63e63486e44bd90585fc375471318": {
          "model_module": "@jupyter-widgets/base",
          "model_module_version": "1.2.0",
          "model_name": "LayoutModel",
          "state": {
            "_model_module": "@jupyter-widgets/base",
            "_model_module_version": "1.2.0",
            "_model_name": "LayoutModel",
            "_view_count": null,
            "_view_module": "@jupyter-widgets/base",
            "_view_module_version": "1.2.0",
            "_view_name": "LayoutView",
            "align_content": null,
            "align_items": null,
            "align_self": null,
            "border": null,
            "bottom": null,
            "display": null,
            "flex": null,
            "flex_flow": null,
            "grid_area": null,
            "grid_auto_columns": null,
            "grid_auto_flow": null,
            "grid_auto_rows": null,
            "grid_column": null,
            "grid_gap": null,
            "grid_row": null,
            "grid_template_areas": null,
            "grid_template_columns": null,
            "grid_template_rows": null,
            "height": null,
            "justify_content": null,
            "justify_items": null,
            "left": null,
            "margin": null,
            "max_height": null,
            "max_width": null,
            "min_height": null,
            "min_width": null,
            "object_fit": null,
            "object_position": null,
            "order": null,
            "overflow": null,
            "overflow_x": null,
            "overflow_y": null,
            "padding": null,
            "right": null,
            "top": null,
            "visibility": null,
            "width": null
          }
        },
        "b6959db30ed64d8dacc4da929ab8b225": {
          "model_module": "@jupyter-widgets/base",
          "model_module_version": "1.2.0",
          "model_name": "LayoutModel",
          "state": {
            "_model_module": "@jupyter-widgets/base",
            "_model_module_version": "1.2.0",
            "_model_name": "LayoutModel",
            "_view_count": null,
            "_view_module": "@jupyter-widgets/base",
            "_view_module_version": "1.2.0",
            "_view_name": "LayoutView",
            "align_content": null,
            "align_items": null,
            "align_self": null,
            "border": null,
            "bottom": null,
            "display": null,
            "flex": null,
            "flex_flow": null,
            "grid_area": null,
            "grid_auto_columns": null,
            "grid_auto_flow": null,
            "grid_auto_rows": null,
            "grid_column": null,
            "grid_gap": null,
            "grid_row": null,
            "grid_template_areas": null,
            "grid_template_columns": null,
            "grid_template_rows": null,
            "height": null,
            "justify_content": null,
            "justify_items": null,
            "left": null,
            "margin": null,
            "max_height": null,
            "max_width": null,
            "min_height": null,
            "min_width": null,
            "object_fit": null,
            "object_position": null,
            "order": null,
            "overflow": null,
            "overflow_x": null,
            "overflow_y": null,
            "padding": null,
            "right": null,
            "top": null,
            "visibility": null,
            "width": null
          }
        },
        "fe0ba740c1144ebc9bfba1278245da94": {
          "model_module": "@jupyter-widgets/base",
          "model_module_version": "1.2.0",
          "model_name": "LayoutModel",
          "state": {
            "_model_module": "@jupyter-widgets/base",
            "_model_module_version": "1.2.0",
            "_model_name": "LayoutModel",
            "_view_count": null,
            "_view_module": "@jupyter-widgets/base",
            "_view_module_version": "1.2.0",
            "_view_name": "LayoutView",
            "align_content": null,
            "align_items": null,
            "align_self": null,
            "border": null,
            "bottom": null,
            "display": null,
            "flex": null,
            "flex_flow": null,
            "grid_area": null,
            "grid_auto_columns": null,
            "grid_auto_flow": null,
            "grid_auto_rows": null,
            "grid_column": null,
            "grid_gap": null,
            "grid_row": null,
            "grid_template_areas": null,
            "grid_template_columns": null,
            "grid_template_rows": null,
            "height": null,
            "justify_content": null,
            "justify_items": null,
            "left": null,
            "margin": null,
            "max_height": null,
            "max_width": null,
            "min_height": null,
            "min_width": null,
            "object_fit": null,
            "object_position": null,
            "order": null,
            "overflow": null,
            "overflow_x": null,
            "overflow_y": null,
            "padding": null,
            "right": null,
            "top": null,
            "visibility": null,
            "width": null
          }
        }
      }
    }
  },
  "nbformat": 4,
  "nbformat_minor": 0
}
