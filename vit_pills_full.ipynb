{
  "metadata": {
    "kernelspec": {
      "language": "python",
      "display_name": "Python 3",
      "name": "python3"
    },
    "language_info": {
      "pygments_lexer": "ipython3",
      "nbconvert_exporter": "python",
      "version": "3.6.4",
      "file_extension": ".py",
      "codemirror_mode": {
        "name": "ipython",
        "version": 3
      },
      "name": "python",
      "mimetype": "text/x-python"
    },
    "colab": {
      "provenance": []
    }
  },
  "nbformat_minor": 0,
  "nbformat": 4,
  "cells": [
    {
      "cell_type": "code",
      "source": [
        "import torch\n",
        "from transformers import ViTFeatureExtractor, ViTForImageClassification\n",
        "from torch.utils.data import Dataset, DataLoader\n",
        "import torch.nn as nn\n",
        "import matplotlib.pyplot as plt\n",
        "import numpy as np\n",
        "from PIL import Image\n",
        "import pandas as pd\n",
        "import os\n",
        "import wandb\n",
        "from tqdm import tqdm\n",
        "from functools import partial\n",
        "from sklearn.model_selection import StratifiedKFold"
      ],
      "metadata": {
        "_uuid": "8f2839f25d086af736a60e9eeb907d3b93b6e0e5",
        "_cell_guid": "b1076dfc-b9ad-4769-8c92-a6c4dae69d19",
        "execution": {
          "iopub.status.busy": "2022-12-13T04:48:44.164144Z",
          "iopub.execute_input": "2022-12-13T04:48:44.164649Z",
          "iopub.status.idle": "2022-12-13T04:48:44.179685Z",
          "shell.execute_reply.started": "2022-12-13T04:48:44.164588Z",
          "shell.execute_reply": "2022-12-13T04:48:44.178826Z"
        },
        "trusted": true,
        "id": "AhGsdC3LTCBB"
      },
      "execution_count": null,
      "outputs": []
    },
    {
      "cell_type": "code",
      "source": [
        "'''from kaggle_secrets import UserSecretsClient\n",
        "\n",
        "user_secrets = UserSecretsClient()\n",
        "secret_value = user_secrets.get_secret(\"wandb_key\")\n",
        "wandb.login(key=secret_value)\n",
        "\n",
        "wandb.init(project=\"stanford cars vit\")'''"
      ],
      "metadata": {
        "execution": {
          "iopub.status.busy": "2022-11-10T17:59:28.363681Z",
          "iopub.execute_input": "2022-11-10T17:59:28.364029Z",
          "iopub.status.idle": "2022-11-10T17:59:28.374886Z",
          "shell.execute_reply.started": "2022-11-10T17:59:28.364Z",
          "shell.execute_reply": "2022-11-10T17:59:28.37368Z"
        },
        "trusted": true,
        "id": "-tByy07WTCBF"
      },
      "execution_count": null,
      "outputs": []
    },
    {
      "cell_type": "markdown",
      "source": [
        "Load feature extractor and pretrained vision transformer"
      ],
      "metadata": {
        "id": "6M_GG2xITCBG"
      }
    },
    {
      "cell_type": "code",
      "source": [
        "feature_extractor = ViTFeatureExtractor.from_pretrained('google/vit-base-patch16-224')"
      ],
      "metadata": {
        "execution": {
          "iopub.status.busy": "2022-11-10T17:59:31.041774Z",
          "iopub.execute_input": "2022-11-10T17:59:31.043507Z",
          "iopub.status.idle": "2022-11-10T17:59:31.750291Z",
          "shell.execute_reply.started": "2022-11-10T17:59:31.043473Z",
          "shell.execute_reply": "2022-11-10T17:59:31.749337Z"
        },
        "trusted": true,
        "id": "Q_RmhcMuTCBI"
      },
      "execution_count": null,
      "outputs": []
    },
    {
      "cell_type": "code",
      "source": [
        "import os\n",
        "import pandas as pd\n",
        "import numpy as np\n",
        "import joblib\n",
        "#from imutils import paths\n",
        "from sklearn.preprocessing import LabelBinarizer\n",
        "from tqdm import tqdm"
      ],
      "metadata": {
        "execution": {
          "iopub.status.busy": "2022-12-13T04:46:19.087789Z",
          "iopub.execute_input": "2022-12-13T04:46:19.088895Z",
          "iopub.status.idle": "2022-12-13T04:46:19.630125Z",
          "shell.execute_reply.started": "2022-12-13T04:46:19.088851Z",
          "shell.execute_reply": "2022-12-13T04:46:19.629152Z"
        },
        "trusted": true,
        "id": "Mh6zWNndTCBI"
      },
      "execution_count": null,
      "outputs": []
    },
    {
      "cell_type": "code",
      "source": [
        "df = pd.read_csv('../input/pillimages/final_datatable.csv')"
      ],
      "metadata": {
        "execution": {
          "iopub.status.busy": "2022-12-13T04:46:19.632404Z",
          "iopub.execute_input": "2022-12-13T04:46:19.632816Z",
          "iopub.status.idle": "2022-12-13T04:46:19.968702Z",
          "shell.execute_reply.started": "2022-12-13T04:46:19.632771Z",
          "shell.execute_reply": "2022-12-13T04:46:19.967715Z"
        },
        "trusted": true,
        "id": "67fUs9FpTCBJ"
      },
      "execution_count": null,
      "outputs": []
    },
    {
      "cell_type": "code",
      "source": [
        "dir_list1 = os.listdir(\"../input/pillimages/images/images\")\n",
        "dir_list2 = os.listdir(\"../input/pillimages/images2/images2\")\n",
        "\n",
        "imagesFolderLen = len(dir_list1)\n",
        "dir_list = [\"\"]*(len(dir_list1)+len(dir_list2))\n",
        "check_list = dir_list1+dir_list2\n",
        "\n",
        "for d in range(len(dir_list1)):\n",
        "    dir_list[d] = \"images/\"+dir_list1[d]\n",
        "\n",
        "for d in range(len(dir_list2)):\n",
        "    dir_list[d+imagesFolderLen] = \"images2/\"+dir_list2[d]\n",
        "\n",
        "#print(dir_list)\n",
        "print(len(dir_list))\n",
        "print(len(check_list))\n",
        "print(check_list[:10])"
      ],
      "metadata": {
        "execution": {
          "iopub.status.busy": "2022-12-13T04:46:19.970362Z",
          "iopub.execute_input": "2022-12-13T04:46:19.970783Z",
          "iopub.status.idle": "2022-12-13T04:46:20.231761Z",
          "shell.execute_reply.started": "2022-12-13T04:46:19.970744Z",
          "shell.execute_reply": "2022-12-13T04:46:20.230666Z"
        },
        "trusted": true,
        "id": "c4_dnKdFTCBJ"
      },
      "execution_count": null,
      "outputs": []
    },
    {
      "cell_type": "code",
      "source": [
        "set_dir_list1 = set(dir_list1)\n",
        "set_dir_list2 = set(dir_list2)\n",
        "set_check_list = set(check_list)\n",
        "print(len(set_dir_list1))\n",
        "print(len(set_dir_list2))\n",
        "if \"B4CH0R9B7PEQ6GORRX-8XWOL-_G7W9_.JPG\" in set_dir_list2:\n",
        "    print(\"True\")"
      ],
      "metadata": {
        "execution": {
          "iopub.status.busy": "2022-12-13T04:46:20.234777Z",
          "iopub.execute_input": "2022-12-13T04:46:20.235266Z",
          "iopub.status.idle": "2022-12-13T04:46:20.243825Z",
          "shell.execute_reply.started": "2022-12-13T04:46:20.235225Z",
          "shell.execute_reply": "2022-12-13T04:46:20.242807Z"
        },
        "trusted": true,
        "id": "-0_CNN9tTCBK"
      },
      "execution_count": null,
      "outputs": []
    },
    {
      "cell_type": "code",
      "source": [
        "df[\"Image\"] = df[\"Image\"].apply(lambda x: x.split(\"/\"))\n",
        "df[\"Image\"] = df[\"Image\"].apply(lambda x: x[2:])\n",
        "df[\"Image\"] = df[\"Image\"].apply(lambda x: \"\".join(x))\n",
        "df[\"Image\"]"
      ],
      "metadata": {
        "execution": {
          "iopub.status.busy": "2022-12-13T04:46:20.245542Z",
          "iopub.execute_input": "2022-12-13T04:46:20.246322Z",
          "iopub.status.idle": "2022-12-13T04:46:20.747699Z",
          "shell.execute_reply.started": "2022-12-13T04:46:20.246286Z",
          "shell.execute_reply": "2022-12-13T04:46:20.746728Z"
        },
        "trusted": true,
        "id": "rDSI2mUWTCBK"
      },
      "execution_count": null,
      "outputs": []
    },
    {
      "cell_type": "code",
      "source": [
        "df = df[df[\"Image\"].str.contains(\".JPG\")==True]\n",
        "df"
      ],
      "metadata": {
        "execution": {
          "iopub.status.busy": "2022-12-13T04:46:20.749324Z",
          "iopub.execute_input": "2022-12-13T04:46:20.749716Z",
          "iopub.status.idle": "2022-12-13T04:46:20.885496Z",
          "shell.execute_reply.started": "2022-12-13T04:46:20.74968Z",
          "shell.execute_reply": "2022-12-13T04:46:20.884552Z"
        },
        "trusted": true,
        "id": "6tRw5MNoTCBL"
      },
      "execution_count": null,
      "outputs": []
    },
    {
      "cell_type": "code",
      "source": [
        "df = df[df.Image.isin(set_check_list)]\n",
        "df"
      ],
      "metadata": {
        "execution": {
          "iopub.status.busy": "2022-12-13T04:46:20.88803Z",
          "iopub.execute_input": "2022-12-13T04:46:20.88842Z",
          "iopub.status.idle": "2022-12-13T04:46:20.922444Z",
          "shell.execute_reply.started": "2022-12-13T04:46:20.888383Z",
          "shell.execute_reply": "2022-12-13T04:46:20.92158Z"
        },
        "trusted": true,
        "id": "HN7ekhpJTCBL"
      },
      "execution_count": null,
      "outputs": []
    },
    {
      "cell_type": "code",
      "source": [
        "df['Image'] = df['Image'].apply(lambda a: \"images/images/\"+a if a in set_dir_list1 else \"images2/images2/\"+a)\n",
        "df"
      ],
      "metadata": {
        "execution": {
          "iopub.status.busy": "2022-12-13T04:46:20.923704Z",
          "iopub.execute_input": "2022-12-13T04:46:20.924411Z",
          "iopub.status.idle": "2022-12-13T04:46:20.947588Z",
          "shell.execute_reply.started": "2022-12-13T04:46:20.924373Z",
          "shell.execute_reply": "2022-12-13T04:46:20.94667Z"
        },
        "trusted": true,
        "id": "XnZA6afpTCBL"
      },
      "execution_count": null,
      "outputs": []
    },
    {
      "cell_type": "code",
      "source": [
        "def append_ext(fn):\n",
        "    return \"../input/pillimages/\" + fn"
      ],
      "metadata": {
        "execution": {
          "iopub.status.busy": "2022-12-13T04:46:20.994662Z",
          "iopub.execute_input": "2022-12-13T04:46:20.994965Z",
          "iopub.status.idle": "2022-12-13T04:46:21.007256Z",
          "shell.execute_reply.started": "2022-12-13T04:46:20.994935Z",
          "shell.execute_reply": "2022-12-13T04:46:21.006293Z"
        },
        "trusted": true,
        "id": "ZmRX1j1rTCBM"
      },
      "execution_count": null,
      "outputs": []
    },
    {
      "cell_type": "code",
      "source": [
        "df['Image'] = df['Image'].apply(append_ext)"
      ],
      "metadata": {
        "execution": {
          "iopub.status.busy": "2022-12-13T04:46:21.209932Z",
          "iopub.execute_input": "2022-12-13T04:46:21.210596Z",
          "iopub.status.idle": "2022-12-13T04:46:21.220846Z",
          "shell.execute_reply.started": "2022-12-13T04:46:21.210568Z",
          "shell.execute_reply": "2022-12-13T04:46:21.21984Z"
        },
        "trusted": true,
        "id": "kqQs0tL2TCBM"
      },
      "execution_count": null,
      "outputs": []
    },
    {
      "cell_type": "code",
      "source": [
        "counts = df['Name'].value_counts()\n",
        "\n",
        "res = df[~df['Name'].isin(counts[counts < 18].index)]"
      ],
      "metadata": {
        "execution": {
          "iopub.status.busy": "2022-12-13T04:46:22.338497Z",
          "iopub.execute_input": "2022-12-13T04:46:22.339186Z",
          "iopub.status.idle": "2022-12-13T04:46:22.350411Z",
          "shell.execute_reply.started": "2022-12-13T04:46:22.339149Z",
          "shell.execute_reply": "2022-12-13T04:46:22.349249Z"
        },
        "trusted": true,
        "id": "quVY1d_9TCBM"
      },
      "execution_count": null,
      "outputs": []
    },
    {
      "cell_type": "code",
      "source": [
        "len(res)"
      ],
      "metadata": {
        "execution": {
          "iopub.status.busy": "2022-12-13T04:46:22.519999Z",
          "iopub.execute_input": "2022-12-13T04:46:22.520283Z",
          "iopub.status.idle": "2022-12-13T04:46:22.52688Z",
          "shell.execute_reply.started": "2022-12-13T04:46:22.520258Z",
          "shell.execute_reply": "2022-12-13T04:46:22.525828Z"
        },
        "trusted": true,
        "id": "omsm1wIZTCBM"
      },
      "execution_count": null,
      "outputs": []
    },
    {
      "cell_type": "code",
      "source": [
        "from sklearn.preprocessing import LabelEncoder\n",
        "le = LabelEncoder()\n",
        "res['Name'] = le.fit_transform(res['Name'])\n",
        "res"
      ],
      "metadata": {
        "execution": {
          "iopub.status.busy": "2022-12-13T04:46:22.830034Z",
          "iopub.execute_input": "2022-12-13T04:46:22.830584Z",
          "iopub.status.idle": "2022-12-13T04:46:22.84943Z",
          "shell.execute_reply.started": "2022-12-13T04:46:22.830546Z",
          "shell.execute_reply": "2022-12-13T04:46:22.848312Z"
        },
        "trusted": true,
        "id": "4BBemNbpTCBN"
      },
      "execution_count": null,
      "outputs": []
    },
    {
      "cell_type": "code",
      "source": [
        "len(le.classes_)"
      ],
      "metadata": {
        "execution": {
          "iopub.status.busy": "2022-12-13T04:46:23.209057Z",
          "iopub.execute_input": "2022-12-13T04:46:23.20973Z",
          "iopub.status.idle": "2022-12-13T04:46:23.217092Z",
          "shell.execute_reply.started": "2022-12-13T04:46:23.209693Z",
          "shell.execute_reply": "2022-12-13T04:46:23.21591Z"
        },
        "trusted": true,
        "id": "0kydMeZ7TCBN"
      },
      "execution_count": null,
      "outputs": []
    },
    {
      "cell_type": "code",
      "source": [
        "#from sklearn.model_selection import train_test_split\n",
        "y = res[\"Name\"]\n",
        "res = res.drop(\"Name\", axis = 1)"
      ],
      "metadata": {
        "execution": {
          "iopub.status.busy": "2022-12-13T04:46:23.439943Z",
          "iopub.execute_input": "2022-12-13T04:46:23.440817Z",
          "iopub.status.idle": "2022-12-13T04:46:23.497669Z",
          "shell.execute_reply.started": "2022-12-13T04:46:23.440782Z",
          "shell.execute_reply": "2022-12-13T04:46:23.496817Z"
        },
        "trusted": true,
        "id": "rDJbl6MCTCBN"
      },
      "execution_count": null,
      "outputs": []
    },
    {
      "cell_type": "code",
      "source": [
        "paths = res[\"Image\"]\n",
        "#_train, X_test, y_train, y_test = train_test_split(paths, y, test_size=0.25, random_state=11)"
      ],
      "metadata": {
        "execution": {
          "iopub.status.busy": "2022-12-13T04:46:23.840835Z",
          "iopub.execute_input": "2022-12-13T04:46:23.841136Z",
          "iopub.status.idle": "2022-12-13T04:46:23.850255Z",
          "shell.execute_reply.started": "2022-12-13T04:46:23.84111Z",
          "shell.execute_reply": "2022-12-13T04:46:23.84908Z"
        },
        "trusted": true,
        "id": "qxGi8eRTTCBN"
      },
      "execution_count": null,
      "outputs": []
    },
    {
      "cell_type": "code",
      "source": [
        "#X_train = X_train.reset_index()\n",
        "#X_test = X_test.reset_index()"
      ],
      "metadata": {
        "execution": {
          "iopub.status.busy": "2022-12-13T04:46:24.221058Z",
          "iopub.execute_input": "2022-12-13T04:46:24.221384Z",
          "iopub.status.idle": "2022-12-13T04:46:24.230808Z",
          "shell.execute_reply.started": "2022-12-13T04:46:24.221355Z",
          "shell.execute_reply": "2022-12-13T04:46:24.22981Z"
        },
        "trusted": true,
        "id": "bwpEIaJKTCBN"
      },
      "execution_count": null,
      "outputs": []
    },
    {
      "cell_type": "code",
      "source": [
        "import pandas as pd\n",
        "import joblib\n",
        "import numpy as np\n",
        "import torch\n",
        "import random\n",
        "import albumentations\n",
        "import matplotlib.pyplot as plt\n",
        "import argparse\n",
        "import torch.nn as nn\n",
        "import torch.nn.functional as F\n",
        "import torch.optim as optim\n",
        "import time\n",
        "from PIL import Image\n",
        "from tqdm import tqdm\n",
        "from torchvision import models as models\n",
        "from sklearn.model_selection import train_test_split\n",
        "from torch.utils.data import Dataset, DataLoader"
      ],
      "metadata": {
        "execution": {
          "iopub.status.busy": "2022-12-13T04:50:30.849296Z",
          "iopub.execute_input": "2022-12-13T04:50:30.849684Z",
          "iopub.status.idle": "2022-12-13T04:50:30.856665Z",
          "shell.execute_reply.started": "2022-12-13T04:50:30.849649Z",
          "shell.execute_reply": "2022-12-13T04:50:30.855618Z"
        },
        "trusted": true,
        "id": "xOCRXA9XTCBN"
      },
      "execution_count": null,
      "outputs": []
    },
    {
      "cell_type": "code",
      "source": [
        "def seed_everything(SEED=42):\n",
        "    random.seed(SEED)\n",
        "    np.random.seed(SEED)\n",
        "    torch.manual_seed(SEED)\n",
        "    torch.cuda.manual_seed(SEED)\n",
        "    torch.cuda.manual_seed_all(SEED)\n",
        "    torch.backends.cudnn.benchmark = True\n",
        "\n",
        "SEED=42\n",
        "seed_everything(SEED=SEED)\n",
        "device = ('cuda:0' if torch.cuda.is_available() else 'cpu')\n",
        "print(f\"Computation device: {device}\")"
      ],
      "metadata": {
        "execution": {
          "iopub.status.busy": "2022-12-13T04:51:39.128786Z",
          "iopub.execute_input": "2022-12-13T04:51:39.129186Z",
          "iopub.status.idle": "2022-12-13T04:51:39.19837Z",
          "shell.execute_reply.started": "2022-12-13T04:51:39.129156Z",
          "shell.execute_reply": "2022-12-13T04:51:39.197354Z"
        },
        "trusted": true,
        "id": "0TVexFPYTCBN"
      },
      "execution_count": null,
      "outputs": []
    },
    {
      "cell_type": "code",
      "source": [
        "num_epochs = 10\n",
        "lr = 2e-4\n",
        "eval_steps = 100\n",
        "record_steps= 10\n",
        "save_checkpoint = 5\n",
        "\n",
        "#wandb.config.update({\"lr\": lr, \"num_epochs\": num_epochs})\n",
        "\n",
        "model = ViTForImageClassification.from_pretrained('google/vit-base-patch16-224', num_labels=230,\n",
        "                                                   id2label={str(i): c for i, c in enumerate(le.classes_)},\n",
        "                                                   label2id={c: str(i) for i, c in enumerate(le.classes_)},\n",
        "                                                   ignore_mismatched_sizes=True).to(device)\n",
        "\n",
        "optim = torch.optim.AdamW(model.parameters(), lr=lr)\n",
        "\n",
        "# negative log likelihood -> multi-class classification\n",
        "training_stats_step = 10"
      ],
      "metadata": {
        "execution": {
          "iopub.status.busy": "2022-12-13T04:52:22.418295Z",
          "iopub.execute_input": "2022-12-13T04:52:22.418785Z",
          "iopub.status.idle": "2022-12-13T04:52:40.592259Z",
          "shell.execute_reply.started": "2022-12-13T04:52:22.418644Z",
          "shell.execute_reply": "2022-12-13T04:52:40.591206Z"
        },
        "trusted": true,
        "id": "Dm119SweTCBO"
      },
      "execution_count": null,
      "outputs": []
    },
    {
      "cell_type": "code",
      "source": [
        "criterion = nn.CrossEntropyLoss()"
      ],
      "metadata": {
        "execution": {
          "iopub.status.busy": "2022-12-13T04:52:41.07783Z",
          "iopub.execute_input": "2022-12-13T04:52:41.078174Z",
          "iopub.status.idle": "2022-12-13T04:52:41.083566Z",
          "shell.execute_reply.started": "2022-12-13T04:52:41.078144Z",
          "shell.execute_reply": "2022-12-13T04:52:41.082594Z"
        },
        "trusted": true,
        "id": "21IDAk9GTCBO"
      },
      "execution_count": null,
      "outputs": []
    },
    {
      "cell_type": "code",
      "source": [
        "# image dataset module\n",
        "class NaturalImageDataset(Dataset):\n",
        "    def __init__(self, path, labels, tfms=None):\n",
        "        self.X = path\n",
        "        self.y = labels\n",
        "        # apply augmentations\n",
        "        if tfms == 0: # if validating\n",
        "            self.aug = albumentations.Compose([\n",
        "                albumentations.Resize(224, 224, always_apply=True),\n",
        "                albumentations.Normalize(mean=[0.485, 0.456, 0.406],\n",
        "                          std=[0.229, 0.224, 0.225], always_apply=True)\n",
        "            ])\n",
        "        else: # if training\n",
        "            self.aug = albumentations.Compose([\n",
        "                albumentations.Resize(224, 224, always_apply=True),\n",
        "                albumentations.HorizontalFlip(p=1.0),\n",
        "                albumentations.ShiftScaleRotate(\n",
        "                    shift_limit=0.3,\n",
        "                    scale_limit=0.3,\n",
        "                    rotate_limit=30,\n",
        "                    p=1.0\n",
        "                ),\n",
        "                albumentations.Normalize(mean=[0.485, 0.456, 0.406],\n",
        "                          std=[0.229, 0.224, 0.225], always_apply=True)\n",
        "            ])\n",
        "    def __len__(self):\n",
        "        return (len(self.X))\n",
        "\n",
        "    def __getitem__(self, i):\n",
        "        image = Image.open(self.X.iloc[i])\n",
        "        image = self.aug(image=np.array(image))['image']\n",
        "        image = np.transpose(image, (2, 0, 1)).astype(np.float32)\n",
        "        label = self.y.iloc[i]\n",
        "        return torch.tensor(image, dtype=torch.float), torch.tensor(label, dtype=torch.long)"
      ],
      "metadata": {
        "execution": {
          "iopub.status.busy": "2022-12-13T05:21:10.074084Z",
          "iopub.execute_input": "2022-12-13T05:21:10.074522Z",
          "iopub.status.idle": "2022-12-13T05:21:10.092228Z",
          "shell.execute_reply.started": "2022-12-13T05:21:10.074483Z",
          "shell.execute_reply": "2022-12-13T05:21:10.091151Z"
        },
        "trusted": true,
        "id": "doDT-AFMTCBO"
      },
      "execution_count": null,
      "outputs": []
    },
    {
      "cell_type": "code",
      "source": [
        "#validation function\n",
        "def validate(model, test_dataloader):\n",
        "    print('Validating')\n",
        "    model.eval()\n",
        "    val_running_loss = 0.0\n",
        "    val_running_correct = 0\n",
        "    with torch.no_grad():\n",
        "        for i, data in tqdm(enumerate(test_dataloader), total=int(len(test_data)/test_dataloader.batch_size)):\n",
        "            data, target = data[0].to(device), data[1].to(device)\n",
        "            #loss = criterion(outputs, target)\n",
        "\n",
        "            outputs = model(pixel_values=data, labels=target)\n",
        "            #loss = criterion(outputs, target)\n",
        "            loss = outputs[0]\n",
        "\n",
        "            val_running_loss += loss.item()\n",
        "            #_, preds = torch.max(outputs.data, 1)\n",
        "            val_running_correct += (torch.argmax(outputs[\"logits\"], dim=1) == target).sum().item()\n",
        "\n",
        "        val_loss = val_running_loss/len(test_dataloader.dataset)\n",
        "        val_accuracy = 100. * val_running_correct/len(test_dataloader.dataset)\n",
        "        print(f'Val Loss: {val_loss:.4f}, Val Acc: {val_accuracy:.2f}')\n",
        "\n",
        "        return val_loss, val_accuracy"
      ],
      "metadata": {
        "execution": {
          "iopub.status.busy": "2022-12-13T04:52:57.774105Z",
          "iopub.execute_input": "2022-12-13T04:52:57.774469Z",
          "iopub.status.idle": "2022-12-13T04:52:57.782914Z",
          "shell.execute_reply.started": "2022-12-13T04:52:57.774438Z",
          "shell.execute_reply": "2022-12-13T04:52:57.781924Z"
        },
        "trusted": true,
        "id": "UCQ_oweyTCBO"
      },
      "execution_count": null,
      "outputs": []
    },
    {
      "cell_type": "code",
      "source": [
        "# training function\n",
        "def fit(model, train_dataloader):\n",
        "    print('Training')\n",
        "    model.train()\n",
        "    train_running_loss = 0.0\n",
        "    train_running_correct = 0\n",
        "    for i, data in tqdm(enumerate(train_dataloader), total=int(len(train_data)/train_dataloader.batch_size)):\n",
        "        data, target = data[0].to(device), data[1].to(device)\n",
        "        optim.zero_grad()\n",
        "        outputs = model(pixel_values=data, labels=target)\n",
        "        #loss = criterion(outputs, target)\n",
        "        loss = outputs[0]\n",
        "        train_running_loss += loss.item()\n",
        "        #_, preds = torch.max(outputs.data, 1)\n",
        "        train_running_correct += (torch.argmax(outputs[\"logits\"], dim=1) == target).sum().item()\n",
        "        loss.backward()\n",
        "        optim.step()\n",
        "\n",
        "    train_loss = train_running_loss/len(train_dataloader.dataset)\n",
        "    train_accuracy = 100. * train_running_correct/len(train_dataloader.dataset)\n",
        "\n",
        "    print(f\"Train Loss: {train_loss:.4f}, Train Acc: {train_accuracy:.2f}\")\n",
        "\n",
        "    return train_loss, train_accuracy"
      ],
      "metadata": {
        "execution": {
          "iopub.status.busy": "2022-12-13T04:53:27.194691Z",
          "iopub.execute_input": "2022-12-13T04:53:27.195196Z",
          "iopub.status.idle": "2022-12-13T04:53:27.212654Z",
          "shell.execute_reply.started": "2022-12-13T04:53:27.195151Z",
          "shell.execute_reply": "2022-12-13T04:53:27.211792Z"
        },
        "trusted": true,
        "id": "zv5yi9LxTCBO"
      },
      "execution_count": null,
      "outputs": []
    },
    {
      "cell_type": "code",
      "source": [
        "class EarlyStopping():\n",
        "    def __init__(self, tolerance=5, min_delta=0):\n",
        "\n",
        "        self.tolerance = tolerance\n",
        "        self.min_delta = min_delta\n",
        "        self.counter = 0\n",
        "        self.early_stop = False\n",
        "\n",
        "    def __call__(self, train_loss, validation_loss):\n",
        "        if (validation_loss - train_loss) > self.min_delta:\n",
        "            self.counter +=1\n",
        "            if self.counter >= self.tolerance:\n",
        "                self.early_stop = True"
      ],
      "metadata": {
        "execution": {
          "iopub.status.busy": "2022-12-13T05:00:23.098751Z",
          "iopub.execute_input": "2022-12-13T05:00:23.099312Z",
          "iopub.status.idle": "2022-12-13T05:00:23.107432Z",
          "shell.execute_reply.started": "2022-12-13T05:00:23.099265Z",
          "shell.execute_reply": "2022-12-13T05:00:23.106275Z"
        },
        "trusted": true,
        "id": "Zs46cb48TCBO"
      },
      "execution_count": null,
      "outputs": []
    },
    {
      "cell_type": "code",
      "source": [
        "early_stopping = EarlyStopping(tolerance=5, min_delta=10)"
      ],
      "metadata": {
        "execution": {
          "iopub.status.busy": "2022-12-13T05:00:40.773584Z",
          "iopub.execute_input": "2022-12-13T05:00:40.774495Z",
          "iopub.status.idle": "2022-12-13T05:00:40.77916Z",
          "shell.execute_reply.started": "2022-12-13T05:00:40.774458Z",
          "shell.execute_reply": "2022-12-13T05:00:40.778144Z"
        },
        "trusted": true,
        "id": "z6UEVK_9TCBP"
      },
      "execution_count": null,
      "outputs": []
    },
    {
      "cell_type": "code",
      "source": [
        "from sklearn.metrics import f1_score, precision_score, recall_score, matthews_corrcoef"
      ],
      "metadata": {
        "execution": {
          "iopub.status.busy": "2022-12-13T05:26:03.608574Z",
          "iopub.execute_input": "2022-12-13T05:26:03.608965Z",
          "iopub.status.idle": "2022-12-13T05:26:03.614542Z",
          "shell.execute_reply.started": "2022-12-13T05:26:03.608935Z",
          "shell.execute_reply": "2022-12-13T05:26:03.613351Z"
        },
        "trusted": true,
        "id": "vssDzjEqTCBP"
      },
      "execution_count": null,
      "outputs": []
    },
    {
      "cell_type": "code",
      "source": [
        "skf = StratifiedKFold(n_splits=3)\n",
        "precision = []\n",
        "recall = []\n",
        "f1 = []\n",
        "mcc = []\n",
        "val_min = np.inf\n",
        "for _, (train_index, test_index) in enumerate(skf.split(paths, y)):\n",
        "\n",
        "    X_train = paths.iloc[train_index]\n",
        "    y_train = y.iloc[train_index]\n",
        "\n",
        "    X_test = paths.iloc[test_index]\n",
        "    y_test = paths.iloc[test_index]\n",
        "\n",
        "    train_data = NaturalImageDataset(X_train, y_train, tfms=1)\n",
        "    test_data = NaturalImageDataset(X_test, y_test, tfms=0)\n",
        "\n",
        "    # dataloaders\n",
        "    trainloader = DataLoader(train_data, batch_size=16, shuffle=True)\n",
        "    testloader = DataLoader(test_data, batch_size=16, shuffle=False)\n",
        "\n",
        "    train_loss , train_accuracy = [], []\n",
        "    val_loss , val_accuracy = [], []\n",
        "    start = time.time()\n",
        "    for epoch in range(10):\n",
        "        print(f\"Epoch {epoch+1} of {10}\")\n",
        "        train_epoch_loss, train_epoch_accuracy = fit(model, trainloader)\n",
        "        val_epoch_loss, val_epoch_accuracy = validate(model, testloader)\n",
        "        train_loss.append(train_epoch_loss)\n",
        "        train_accuracy.append(train_epoch_accuracy)\n",
        "        val_loss.append(val_epoch_loss)\n",
        "        val_accuracy.append(val_epoch_accuracy)\n",
        "        if(val_epoch_loss < val_min):\n",
        "          val_min = val_epoch_loss\n",
        "          torch.save(model.state_dict(), 'vit_model.pt')\n",
        "          print('Detected network improvement, saving current model')\n",
        "          # early stopping\n",
        "          early_stopping(train_epoch_loss, val_epoch_loss)\n",
        "          if early_stopping.early_stop:\n",
        "            print(\"We are at epoch:\", epoch + 1)\n",
        "            break\n",
        "\n",
        "    end = time.time()\n",
        "    print(f\"{(end-start)/60:.3f} minutes\")\n",
        "\n",
        "    model.load_state_dict(torch.load('./vit_model.pt'))\n",
        "    model.eval()\n",
        "    labels = []\n",
        "    y_true = []\n",
        "    with torch.no_grad():\n",
        "        for i, data in tqdm(enumerate(testloader), total=int(len(test_data)/testloader.batch_size)):\n",
        "                data, target = data[0].to(device), data[1].to(device)\n",
        "                outputs = model(pixel_values=data, labels=target)\n",
        "                #loss = criterion(outputs, target)\n",
        "                loss = outputs[0]\n",
        "                #_, preds = torch.max(outputs.data, 1)\n",
        "                preds = torch.argmax(outputs[\"logits\"], dim=1)\n",
        "                labels.append(preds.to('cpu').numpy())\n",
        "                y_true.append(target.to('cpu').numpy())\n",
        "\n",
        "    y_pred = [item for sublist in labels for item in sublist]\n",
        "    y_test =  [item for sublist in y_true for item in sublist]\n",
        "\n",
        "    precision.append(precision_score(y_test, y_pred, average='macro'))\n",
        "    recall.append(recall_score(y_test, y_pred, average = 'macro'))\n",
        "    f1.append(f1_score(y_test, y_pred, average = 'macro'))\n",
        "    mcc.append(matthews_corrcoef(y_test, y_pred))\n",
        "\n",
        "    #accuracy plots\n",
        "    plt.figure(figsize=(10, 7))\n",
        "    plt.plot(train_accuracy, color='green', label='train accuracy')\n",
        "    plt.plot(val_accuracy, color='blue', label='validataion accuracy')\n",
        "    plt.xlabel('Epochs')\n",
        "    plt.ylabel('Accuracy')\n",
        "    plt.legend()\n",
        "    plt.show()\n",
        "\n",
        "    # loss plots\n",
        "    plt.figure(figsize=(10, 7))\n",
        "    plt.plot(train_loss, color='orange', label='train loss')\n",
        "    plt.plot(val_loss, color='red', label='validataion loss')\n",
        "    plt.xlabel('Epochs')\n",
        "    plt.ylabel('Loss')\n",
        "    plt.legend()\n",
        "    plt.show()"
      ],
      "metadata": {
        "trusted": true,
        "id": "4pdhGuQkTCBP"
      },
      "execution_count": null,
      "outputs": []
    },
    {
      "cell_type": "code",
      "source": [
        "print(\"Precision\", sum(precision) / len(precision))\n",
        "print(\"Recall\", sum(recall) / len(recall))\n",
        "print(\"F1\", sum(f1) / len(f1))\n",
        "print(\"MCC\", sum(mcc) / len(mcc))"
      ],
      "metadata": {
        "id": "eL6NQ7m8TCBP"
      },
      "execution_count": null,
      "outputs": []
    },
    {
      "cell_type": "code",
      "source": [
        "#train_data = NaturalImageDataset(X_train, y_train, tfms=1)\n",
        "#est_data = NaturalImageDataset(X_test, y_test, tfms=0)\n",
        "\n",
        "# dataloaders\n",
        "#trainloader = DataLoader(train_data, batch_size=16, shuffle=True)\n",
        "#testloader = DataLoader(test_data, batch_size=16, shuffle=False)"
      ],
      "metadata": {
        "execution": {
          "iopub.status.busy": "2022-11-10T18:44:02.915637Z",
          "iopub.execute_input": "2022-11-10T18:44:02.915991Z",
          "iopub.status.idle": "2022-11-10T18:44:02.921933Z",
          "shell.execute_reply.started": "2022-11-10T18:44:02.915958Z",
          "shell.execute_reply": "2022-11-10T18:44:02.920679Z"
        },
        "trusted": true,
        "id": "VIR5pGl-TCBQ"
      },
      "execution_count": null,
      "outputs": []
    },
    {
      "cell_type": "code",
      "source": [
        "'''def seed_everything(SEED=42):\n",
        "    random.seed(SEED)\n",
        "    np.random.seed(SEED)\n",
        "    torch.manual_seed(SEED)\n",
        "    torch.cuda.manual_seed(SEED)\n",
        "    torch.cuda.manual_seed_all(SEED)\n",
        "    torch.backends.cudnn.benchmark = True\n",
        "\n",
        "SEED=42\n",
        "seed_everything(SEED=SEED)\n",
        "device = ('cuda:0' if torch.cuda.is_available() else 'cpu')\n",
        "print(f\"Computation device: {device}\")'''"
      ],
      "metadata": {
        "execution": {
          "iopub.status.busy": "2022-11-10T18:44:05.574646Z",
          "iopub.execute_input": "2022-11-10T18:44:05.574991Z",
          "iopub.status.idle": "2022-11-10T18:44:05.645514Z",
          "shell.execute_reply.started": "2022-11-10T18:44:05.574959Z",
          "shell.execute_reply": "2022-11-10T18:44:05.644473Z"
        },
        "trusted": true,
        "id": "qECDN6OKTCBQ"
      },
      "execution_count": null,
      "outputs": []
    },
    {
      "cell_type": "code",
      "source": [
        "'''num_epochs = 10\n",
        "lr = 2e-4\n",
        "eval_steps = 100\n",
        "record_steps= 10\n",
        "save_checkpoint = 5\n",
        "\n",
        "#wandb.config.update({\"lr\": lr, \"num_epochs\": num_epochs})\n",
        "\n",
        "model = ViTForImageClassification.from_pretrained('google/vit-base-patch16-224', num_labels=230,\n",
        "                                                   id2label={str(i): c for i, c in enumerate(le.classes_)},\n",
        "                                                   label2id={c: str(i) for i, c in enumerate(le.classes_)},\n",
        "                                                   ignore_mismatched_sizes=True).to(device)\n",
        "\n",
        "optim = torch.optim.AdamW(model.parameters(), lr=lr)\n",
        "\n",
        "# negative log likelihood -> multi-class classification\n",
        "training_stats_step = 10'''"
      ],
      "metadata": {
        "execution": {
          "iopub.status.busy": "2022-11-10T18:44:22.988566Z",
          "iopub.execute_input": "2022-11-10T18:44:22.98893Z",
          "iopub.status.idle": "2022-11-10T18:44:44.502633Z",
          "shell.execute_reply.started": "2022-11-10T18:44:22.9889Z",
          "shell.execute_reply": "2022-11-10T18:44:44.501561Z"
        },
        "trusted": true,
        "id": "E4Ai9lMWTCBQ"
      },
      "execution_count": null,
      "outputs": []
    },
    {
      "cell_type": "code",
      "source": [
        "#len(X_train), len(X_test)"
      ],
      "metadata": {
        "execution": {
          "iopub.status.busy": "2022-11-10T18:45:46.147713Z",
          "iopub.execute_input": "2022-11-10T18:45:46.148073Z",
          "iopub.status.idle": "2022-11-10T18:45:46.155019Z",
          "shell.execute_reply.started": "2022-11-10T18:45:46.148043Z",
          "shell.execute_reply": "2022-11-10T18:45:46.153828Z"
        },
        "trusted": true,
        "id": "gNQEyUVaTCBQ"
      },
      "execution_count": null,
      "outputs": []
    },
    {
      "cell_type": "code",
      "source": [
        "# optimizer\n",
        "#optimizer = optim.Adam(model.parameters())\n",
        "# loss function\n",
        "#criterion = nn.CrossEntropyLoss()"
      ],
      "metadata": {
        "execution": {
          "iopub.status.busy": "2022-11-10T18:45:48.907594Z",
          "iopub.execute_input": "2022-11-10T18:45:48.907968Z",
          "iopub.status.idle": "2022-11-10T18:45:48.913249Z",
          "shell.execute_reply.started": "2022-11-10T18:45:48.907936Z",
          "shell.execute_reply": "2022-11-10T18:45:48.911883Z"
        },
        "trusted": true,
        "id": "0mlZEXI9TCBQ"
      },
      "execution_count": null,
      "outputs": []
    },
    {
      "cell_type": "code",
      "source": [
        "'''#validation function\n",
        "def validate(model, test_dataloader):\n",
        "    print('Validating')\n",
        "    model.eval()\n",
        "    val_running_loss = 0.0\n",
        "    val_running_correct = 0\n",
        "    with torch.no_grad():\n",
        "        for i, data in tqdm(enumerate(test_dataloader), total=int(len(test_data)/test_dataloader.batch_size)):\n",
        "            data, target = data[0].to(device), data[1].to(device)\n",
        "            #loss = criterion(outputs, target)\n",
        "\n",
        "            outputs = model(pixel_values=data, labels=target)\n",
        "            #loss = criterion(outputs, target)\n",
        "            loss = outputs[0]\n",
        "\n",
        "            val_running_loss += loss.item()\n",
        "            #_, preds = torch.max(outputs.data, 1)\n",
        "            val_running_correct += (torch.argmax(outputs[\"logits\"], dim=1) == target).sum().item()\n",
        "\n",
        "        val_loss = val_running_loss/len(test_dataloader.dataset)\n",
        "        val_accuracy = 100. * val_running_correct/len(test_dataloader.dataset)\n",
        "        print(f'Val Loss: {val_loss:.4f}, Val Acc: {val_accuracy:.2f}')\n",
        "\n",
        "        return val_loss, val_accuracy'''"
      ],
      "metadata": {
        "execution": {
          "iopub.status.busy": "2022-11-10T18:45:51.57602Z",
          "iopub.execute_input": "2022-11-10T18:45:51.576966Z",
          "iopub.status.idle": "2022-11-10T18:45:51.586092Z",
          "shell.execute_reply.started": "2022-11-10T18:45:51.576929Z",
          "shell.execute_reply": "2022-11-10T18:45:51.584959Z"
        },
        "trusted": true,
        "id": "WrfblizJTCBQ"
      },
      "execution_count": null,
      "outputs": []
    },
    {
      "cell_type": "code",
      "source": [
        "'''train_loss , train_accuracy = [], []\n",
        "val_loss , val_accuracy = [], []\n",
        "start = time.time()\n",
        "val_min = np.inf\n",
        "for epoch in range(10):\n",
        "    print(f\"Epoch {epoch+1} of {10}\")\n",
        "    train_epoch_loss, train_epoch_accuracy = fit(model, trainloader)\n",
        "    val_epoch_loss, val_epoch_accuracy = validate(model, testloader)\n",
        "    train_loss.append(train_epoch_loss)\n",
        "    train_accuracy.append(train_epoch_accuracy)\n",
        "    val_loss.append(val_epoch_loss)\n",
        "    val_accuracy.append(val_epoch_accuracy)\n",
        "    if(val_epoch_loss < val_min):\n",
        "      val_min = val_epoch_loss\n",
        "      torch.save(model.state_dict(), 'vit_model.pt')\n",
        "      print('Detected network improvement, saving current model')\n",
        "\n",
        "end = time.time()\n",
        "print(f\"{(end-start)/60:.3f} minutes\")'''"
      ],
      "metadata": {
        "execution": {
          "iopub.status.busy": "2022-11-10T18:46:09.33108Z",
          "iopub.execute_input": "2022-11-10T18:46:09.331784Z",
          "iopub.status.idle": "2022-11-10T22:51:39.911888Z",
          "shell.execute_reply.started": "2022-11-10T18:46:09.33175Z",
          "shell.execute_reply": "2022-11-10T22:51:39.909207Z"
        },
        "trusted": true,
        "id": "65qqYmGlTCBV"
      },
      "execution_count": null,
      "outputs": []
    },
    {
      "cell_type": "code",
      "source": [
        "'''# accuracy plots\n",
        "plt.figure(figsize=(10, 7))\n",
        "plt.plot(train_accuracy, color='green', label='train accuracy')\n",
        "plt.plot(val_accuracy, color='blue', label='validataion accuracy')\n",
        "plt.xlabel('Epochs')\n",
        "plt.ylabel('Accuracy')\n",
        "plt.legend()\n",
        "plt.show()\n",
        "\n",
        "# loss plots\n",
        "plt.figure(figsize=(10, 7))\n",
        "plt.plot(train_loss, color='orange', label='train loss')\n",
        "plt.plot(val_loss, color='red', label='validataion loss')\n",
        "plt.xlabel('Epochs')\n",
        "plt.ylabel('Loss')\n",
        "plt.legend()\n",
        "plt.show()'''"
      ],
      "metadata": {
        "execution": {
          "iopub.status.busy": "2022-11-10T22:51:40.132593Z",
          "iopub.execute_input": "2022-11-10T22:51:40.133657Z",
          "iopub.status.idle": "2022-11-10T22:51:40.617821Z",
          "shell.execute_reply.started": "2022-11-10T22:51:40.133619Z",
          "shell.execute_reply": "2022-11-10T22:51:40.616919Z"
        },
        "trusted": true,
        "id": "i22qtWfLTCBV"
      },
      "execution_count": null,
      "outputs": []
    },
    {
      "cell_type": "code",
      "source": [
        "#model.load_state_dict(torch.load('./vit_model.pt'))"
      ],
      "metadata": {
        "execution": {
          "iopub.status.busy": "2022-11-10T22:51:40.620352Z",
          "iopub.execute_input": "2022-11-10T22:51:40.62081Z",
          "iopub.status.idle": "2022-11-10T22:51:42.456226Z",
          "shell.execute_reply.started": "2022-11-10T22:51:40.620771Z",
          "shell.execute_reply": "2022-11-10T22:51:42.455162Z"
        },
        "trusted": true,
        "id": "0awnmQcETCBV"
      },
      "execution_count": null,
      "outputs": []
    },
    {
      "cell_type": "code",
      "source": [
        "'''model.eval()\n",
        "labels = []\n",
        "y_true = []\n",
        "with torch.no_grad():\n",
        "    for i, data in tqdm(enumerate(testloader), total=int(len(test_data)/testloader.batch_size)):\n",
        "            data, target = data[0].to(device), data[1].to(device)\n",
        "            outputs = model(pixel_values=data, labels=target)\n",
        "            #loss = criterion(outputs, target)\n",
        "            loss = outputs[0]\n",
        "            #_, preds = torch.max(outputs.data, 1)\n",
        "            preds = torch.argmax(outputs[\"logits\"], dim=1)\n",
        "            labels.append(preds.to('cpu').numpy())\n",
        "            y_true.append(target.to('cpu').numpy())'''"
      ],
      "metadata": {
        "execution": {
          "iopub.status.busy": "2022-11-10T22:51:42.45796Z",
          "iopub.execute_input": "2022-11-10T22:51:42.458376Z",
          "iopub.status.idle": "2022-11-10T22:56:09.053627Z",
          "shell.execute_reply.started": "2022-11-10T22:51:42.458336Z",
          "shell.execute_reply": "2022-11-10T22:56:09.052558Z"
        },
        "trusted": true,
        "id": "l1utSVXlTCBV"
      },
      "execution_count": null,
      "outputs": []
    },
    {
      "cell_type": "code",
      "source": [
        "#y_pred = [item for sublist in labels for item in sublist]\n",
        "#y_test =  [item for sublist in y_true for item in sublist]"
      ],
      "metadata": {
        "execution": {
          "iopub.status.busy": "2022-11-10T22:56:09.055247Z",
          "iopub.execute_input": "2022-11-10T22:56:09.055876Z",
          "iopub.status.idle": "2022-11-10T22:56:09.061876Z",
          "shell.execute_reply.started": "2022-11-10T22:56:09.055835Z",
          "shell.execute_reply": "2022-11-10T22:56:09.060878Z"
        },
        "trusted": true,
        "id": "_-SAy_JnTCBV"
      },
      "execution_count": null,
      "outputs": []
    },
    {
      "cell_type": "code",
      "source": [
        "from sklearn.metrics import classification_report\n",
        "#print(classification_report(le.inverse_transform(y_test), le.inverse_transform(y_pred)))"
      ],
      "metadata": {
        "execution": {
          "iopub.status.busy": "2022-11-10T22:56:09.063422Z",
          "iopub.execute_input": "2022-11-10T22:56:09.063807Z",
          "iopub.status.idle": "2022-11-10T22:56:09.139042Z",
          "shell.execute_reply.started": "2022-11-10T22:56:09.063772Z",
          "shell.execute_reply": "2022-11-10T22:56:09.138068Z"
        },
        "trusted": true,
        "id": "sxKWdsY5TCBV"
      },
      "execution_count": null,
      "outputs": []
    },
    {
      "cell_type": "code",
      "source": [
        "from sklearn.metrics import matthews_corrcoef\n",
        "#print(matthews_corrcoef(y_test, y_pred))"
      ],
      "metadata": {
        "execution": {
          "iopub.status.busy": "2022-11-10T22:56:09.140597Z",
          "iopub.execute_input": "2022-11-10T22:56:09.142435Z",
          "iopub.status.idle": "2022-11-10T22:56:09.15705Z",
          "shell.execute_reply.started": "2022-11-10T22:56:09.142395Z",
          "shell.execute_reply": "2022-11-10T22:56:09.155944Z"
        },
        "trusted": true,
        "id": "0Mfa7b_ETCBW"
      },
      "execution_count": null,
      "outputs": []
    },
    {
      "cell_type": "code",
      "source": [
        "from sklearn.metrics import cohen_kappa_score\n",
        "#print(cohen_kappa_score(y_test, y_pred))"
      ],
      "metadata": {
        "execution": {
          "iopub.status.busy": "2022-11-10T22:56:09.158497Z",
          "iopub.execute_input": "2022-11-10T22:56:09.158936Z",
          "iopub.status.idle": "2022-11-10T22:56:09.170922Z",
          "shell.execute_reply.started": "2022-11-10T22:56:09.158901Z",
          "shell.execute_reply": "2022-11-10T22:56:09.169626Z"
        },
        "trusted": true,
        "id": "okqQk3BTTCBW"
      },
      "execution_count": null,
      "outputs": []
    },
    {
      "cell_type": "code",
      "source": [],
      "metadata": {
        "id": "xnzDX5L4TCBW"
      },
      "execution_count": null,
      "outputs": []
    }
  ]
}