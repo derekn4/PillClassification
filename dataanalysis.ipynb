{
  "metadata": {
    "kernelspec": {
      "language": "python",
      "display_name": "Python 3",
      "name": "python3"
    },
    "language_info": {
      "name": "python",
      "version": "3.7.12",
      "mimetype": "text/x-python",
      "codemirror_mode": {
        "name": "ipython",
        "version": 3
      },
      "pygments_lexer": "ipython3",
      "nbconvert_exporter": "python",
      "file_extension": ".py"
    },
    "colab": {
      "provenance": []
    }
  },
  "nbformat_minor": 0,
  "nbformat": 4,
  "cells": [
    {
      "cell_type": "code",
      "source": [
        "# This Python 3 environment comes with many helpful analytics libraries installed\n",
        "# It is defined by the kaggle/python Docker image: https://github.com/kaggle/docker-python\n",
        "# For example, here's several helpful packages to load\n",
        "\n",
        "import numpy as np # linear algebra\n",
        "import pandas as pd # data processing, CSV file I/O (e.g. pd.read_csv)\n",
        "\n",
        "# Input data files are available in the read-only \"../input/\" directory\n",
        "# For example, running this (by clicking run or pressing Shift+Enter) will list all files under the input directory\n",
        "\n",
        "import os\n",
        "for dirname, _, filenames in os.walk('/kaggle/input'):\n",
        "    for filename in filenames:\n",
        "        print(os.path.join(dirname, filename))\n",
        "\n",
        "# You can write up to 20GB to the current directory (/kaggle/working/) that gets preserved as output when you create a version using \"Save & Run All\"\n",
        "# You can also write temporary files to /kaggle/temp/, but they won't be saved outside of the current session"
      ],
      "metadata": {
        "_uuid": "8f2839f25d086af736a60e9eeb907d3b93b6e0e5",
        "_cell_guid": "b1076dfc-b9ad-4769-8c92-a6c4dae69d19",
        "execution": {
          "iopub.status.busy": "2022-12-04T22:59:31.485904Z",
          "iopub.execute_input": "2022-12-04T22:59:31.487309Z",
          "iopub.status.idle": "2022-12-04T22:59:31.522824Z",
          "shell.execute_reply.started": "2022-12-04T22:59:31.487160Z",
          "shell.execute_reply": "2022-12-04T22:59:31.521522Z"
        },
        "trusted": true,
        "id": "YLr0h44bTGvY",
        "outputId": "e2d8230a-abd7-4755-8aa0-572766db48fe"
      },
      "execution_count": null,
      "outputs": [
        {
          "name": "stdout",
          "text": "/kaggle/input/pill-image-analysis/allImages\n/kaggle/input/pill-image-analysis/threshold\n/kaggle/input/pill-image-analysis/ld50values.csv\n",
          "output_type": "stream"
        }
      ]
    },
    {
      "cell_type": "code",
      "source": [
        "og = pd.read_csv(\"../input/pill-image-analysis/allImages\")\n",
        "thresh = pd.read_csv(\"../input/pill-image-analysis/threshold\")"
      ],
      "metadata": {
        "execution": {
          "iopub.status.busy": "2022-12-04T22:59:31.525342Z",
          "iopub.execute_input": "2022-12-04T22:59:31.526099Z",
          "iopub.status.idle": "2022-12-04T22:59:31.640333Z",
          "shell.execute_reply.started": "2022-12-04T22:59:31.526053Z",
          "shell.execute_reply": "2022-12-04T22:59:31.639381Z"
        },
        "trusted": true,
        "id": "u2ZnbjncTGvc"
      },
      "execution_count": null,
      "outputs": []
    },
    {
      "cell_type": "code",
      "source": [
        "counts1 = og['Name'].value_counts()\n",
        "counts2 = thresh[\"Name\"].value_counts()\n",
        "counts1"
      ],
      "metadata": {
        "execution": {
          "iopub.status.busy": "2022-12-04T22:59:31.641951Z",
          "iopub.execute_input": "2022-12-04T22:59:31.642683Z",
          "iopub.status.idle": "2022-12-04T22:59:31.666498Z",
          "shell.execute_reply.started": "2022-12-04T22:59:31.642639Z",
          "shell.execute_reply": "2022-12-04T22:59:31.665215Z"
        },
        "trusted": true,
        "id": "bviiaDEXTGvc",
        "outputId": "42efaa47-26ad-4a59-f86c-88c9d354afdc"
      },
      "execution_count": null,
      "outputs": [
        {
          "execution_count": 3,
          "output_type": "execute_result",
          "data": {
            "text/plain": "lisinopril                       180\nwarfarin sodium                  134\nsimvastatin                      130\ngabapentin                       127\nlevothyroxine sodium             111\n                                ... \nstendra                            1\nmetformin hcl                      1\nvalganciclovir                     1\nonceamonth risedronate sodium      1\nhctz let                           1\nName: Name, Length: 1527, dtype: int64"
          },
          "metadata": {}
        }
      ]
    },
    {
      "cell_type": "code",
      "source": [
        "counts1.std()"
      ],
      "metadata": {
        "execution": {
          "iopub.status.busy": "2022-12-04T22:59:31.669919Z",
          "iopub.execute_input": "2022-12-04T22:59:31.670369Z",
          "iopub.status.idle": "2022-12-04T22:59:31.678846Z",
          "shell.execute_reply.started": "2022-12-04T22:59:31.670322Z",
          "shell.execute_reply": "2022-12-04T22:59:31.677529Z"
        },
        "trusted": true,
        "id": "tot8iNfDTGvd",
        "outputId": "99c7e814-39da-491d-c6e4-025cd34308eb"
      },
      "execution_count": null,
      "outputs": [
        {
          "execution_count": 4,
          "output_type": "execute_result",
          "data": {
            "text/plain": "15.340725480332788"
          },
          "metadata": {}
        }
      ]
    },
    {
      "cell_type": "code",
      "source": [
        "counts2.std()"
      ],
      "metadata": {
        "execution": {
          "iopub.status.busy": "2022-12-04T22:59:31.681453Z",
          "iopub.execute_input": "2022-12-04T22:59:31.682368Z",
          "iopub.status.idle": "2022-12-04T22:59:31.692108Z",
          "shell.execute_reply.started": "2022-12-04T22:59:31.682313Z",
          "shell.execute_reply": "2022-12-04T22:59:31.690694Z"
        },
        "trusted": true,
        "id": "lL65vhKlTGvd",
        "outputId": "cea8d9c2-b492-4e76-99bd-b8983ad57f63"
      },
      "execution_count": null,
      "outputs": [
        {
          "execution_count": 5,
          "output_type": "execute_result",
          "data": {
            "text/plain": "23.73473588410315"
          },
          "metadata": {}
        }
      ]
    },
    {
      "cell_type": "code",
      "source": [
        "counts1.mean()"
      ],
      "metadata": {
        "execution": {
          "iopub.status.busy": "2022-12-04T22:59:31.694464Z",
          "iopub.execute_input": "2022-12-04T22:59:31.695359Z",
          "iopub.status.idle": "2022-12-04T22:59:31.706400Z",
          "shell.execute_reply.started": "2022-12-04T22:59:31.695317Z",
          "shell.execute_reply": "2022-12-04T22:59:31.704960Z"
        },
        "trusted": true,
        "id": "WZYHGivgTGvd",
        "outputId": "830a8fa5-938b-4415-beea-a22c1f2d66d7"
      },
      "execution_count": null,
      "outputs": [
        {
          "execution_count": 6,
          "output_type": "execute_result",
          "data": {
            "text/plain": "10.489194499017682"
          },
          "metadata": {}
        }
      ]
    },
    {
      "cell_type": "code",
      "source": [
        "counts2.mean()"
      ],
      "metadata": {
        "execution": {
          "iopub.status.busy": "2022-12-04T22:59:31.707953Z",
          "iopub.execute_input": "2022-12-04T22:59:31.709291Z",
          "iopub.status.idle": "2022-12-04T22:59:31.717809Z",
          "shell.execute_reply.started": "2022-12-04T22:59:31.709245Z",
          "shell.execute_reply": "2022-12-04T22:59:31.716657Z"
        },
        "trusted": true,
        "id": "pGJ5gYxQTGve",
        "outputId": "afa4c143-ac16-46d4-ae1d-877b896ae5f1"
      },
      "execution_count": null,
      "outputs": [
        {
          "execution_count": 7,
          "output_type": "execute_result",
          "data": {
            "text/plain": "38.18260869565217"
          },
          "metadata": {}
        }
      ]
    },
    {
      "cell_type": "code",
      "source": [
        "len(og[\"Name\"])"
      ],
      "metadata": {
        "execution": {
          "iopub.status.busy": "2022-12-04T22:59:31.719860Z",
          "iopub.execute_input": "2022-12-04T22:59:31.721026Z",
          "iopub.status.idle": "2022-12-04T22:59:31.730839Z",
          "shell.execute_reply.started": "2022-12-04T22:59:31.720982Z",
          "shell.execute_reply": "2022-12-04T22:59:31.729902Z"
        },
        "trusted": true,
        "id": "qMJEnGYATGve",
        "outputId": "94e905ce-9977-4119-cf52-5722393b51c7"
      },
      "execution_count": null,
      "outputs": [
        {
          "execution_count": 8,
          "output_type": "execute_result",
          "data": {
            "text/plain": "16017"
          },
          "metadata": {}
        }
      ]
    },
    {
      "cell_type": "code",
      "source": [
        "counts2"
      ],
      "metadata": {
        "execution": {
          "iopub.status.busy": "2022-12-04T22:59:31.732431Z",
          "iopub.execute_input": "2022-12-04T22:59:31.737505Z",
          "iopub.status.idle": "2022-12-04T22:59:31.746865Z",
          "shell.execute_reply.started": "2022-12-04T22:59:31.737462Z",
          "shell.execute_reply": "2022-12-04T22:59:31.745646Z"
        },
        "trusted": true,
        "id": "Yl7ifDoITGve",
        "outputId": "2ecdff61-e607-4575-da87-338e1e476dbc"
      },
      "execution_count": null,
      "outputs": [
        {
          "execution_count": 9,
          "output_type": "execute_result",
          "data": {
            "text/plain": "lisinopril                           180\nwarfarin sodium                      134\nsimvastatin                          130\ngabapentin                           127\nlevothyroxine sodium                 111\n                                    ... \nfosinopril sodium                     18\nofloxacin                             18\nsulfamethoxazole and trimethoprim     18\nhydroxyzine pam                       18\nlorazepam                             18\nName: Name, Length: 230, dtype: int64"
          },
          "metadata": {}
        }
      ]
    },
    {
      "cell_type": "code",
      "source": [
        "import matplotlib.pyplot as plt"
      ],
      "metadata": {
        "execution": {
          "iopub.status.busy": "2022-12-04T22:59:31.751951Z",
          "iopub.execute_input": "2022-12-04T22:59:31.752923Z",
          "iopub.status.idle": "2022-12-04T22:59:31.758134Z",
          "shell.execute_reply.started": "2022-12-04T22:59:31.752876Z",
          "shell.execute_reply": "2022-12-04T22:59:31.757040Z"
        },
        "trusted": true,
        "id": "wcIo5Y-6TGvf"
      },
      "execution_count": null,
      "outputs": []
    },
    {
      "cell_type": "code",
      "source": [
        "ax1 = plt.axes()\n",
        "#x_axis = ax1.axes.get_xaxis()\n",
        "#x_axis.set_visible(False)\n",
        "ax1.set_xticklabels([])\n",
        "plt.xlabel(\"Drug Labels\")\n",
        "plt.ylabel(\"Num Images per Drug\")\n",
        "plt.hist(og['Name'])\n",
        "plt.show()"
      ],
      "metadata": {
        "execution": {
          "iopub.status.busy": "2022-12-04T23:03:10.358237Z",
          "iopub.execute_input": "2022-12-04T23:03:10.358650Z",
          "iopub.status.idle": "2022-12-04T23:03:14.460245Z",
          "shell.execute_reply.started": "2022-12-04T23:03:10.358617Z",
          "shell.execute_reply": "2022-12-04T23:03:14.458847Z"
        },
        "trusted": true,
        "id": "tcI5idhHTGvf",
        "outputId": "4933a014-ef2a-4de3-f687-cf8c0c7222ae"
      },
      "execution_count": null,
      "outputs": [
        {
          "output_type": "display_data",
          "data": {
            "text/plain": "<Figure size 432x288 with 1 Axes>",
            "image/png": "[encoded data removed]"
          },
          "metadata": {
            "needs_background": "light"
          }
        }
      ]
    },
    {
      "cell_type": "code",
      "source": [
        "plt.savefig(\"withoutThreshold.png\")"
      ],
      "metadata": {
        "execution": {
          "iopub.status.busy": "2022-12-04T22:59:34.090253Z",
          "iopub.execute_input": "2022-12-04T22:59:34.091016Z",
          "iopub.status.idle": "2022-12-04T22:59:34.112207Z",
          "shell.execute_reply.started": "2022-12-04T22:59:34.090982Z",
          "shell.execute_reply": "2022-12-04T22:59:34.110777Z"
        },
        "trusted": true,
        "id": "Me0-gyGtTGvf",
        "outputId": "f8ebd8f2-c778-476d-8e88-92f07d4b7b07"
      },
      "execution_count": null,
      "outputs": [
        {
          "output_type": "display_data",
          "data": {
            "text/plain": "<Figure size 432x288 with 0 Axes>"
          },
          "metadata": {}
        }
      ]
    },
    {
      "cell_type": "code",
      "source": [
        "ax1 = plt.axes()\n",
        "ax1.set_xticklabels([])\n",
        "plt.xlabel(\"Drug Labels\")\n",
        "plt.ylabel(\"Num Images per Drug\")\n",
        "plt.hist(thresh['Name'])\n",
        "plt.show()"
      ],
      "metadata": {
        "execution": {
          "iopub.status.busy": "2022-12-04T23:03:14.462861Z",
          "iopub.execute_input": "2022-12-04T23:03:14.463430Z",
          "iopub.status.idle": "2022-12-04T23:03:15.164317Z",
          "shell.execute_reply.started": "2022-12-04T23:03:14.463381Z",
          "shell.execute_reply": "2022-12-04T23:03:15.163055Z"
        },
        "trusted": true,
        "id": "IWWG7ljdTGvf",
        "outputId": "06c822a7-2d45-4fc4-bb6b-c7acb81b3833"
      },
      "execution_count": null,
      "outputs": [
        {
          "output_type": "display_data",
          "data": {
            "text/plain": "<Figure size 432x288 with 1 Axes>",
            "image/png": "[encoded data removed]"
          },
          "metadata": {
            "needs_background": "light"
          }
        }
      ]
    },
    {
      "cell_type": "code",
      "source": [
        "ld50 = pd.read_csv(\"/kaggle/input/pill-image-analysis/ld50values.csv\")\n",
        "ld50.drop(ld50.tail(1).index,inplace=True)\n",
        "ld50['LD50'] = ld50['LD50'].astype('float')"
      ],
      "metadata": {
        "execution": {
          "iopub.status.busy": "2022-12-04T22:59:34.557350Z",
          "iopub.execute_input": "2022-12-04T22:59:34.558116Z",
          "iopub.status.idle": "2022-12-04T22:59:34.573629Z",
          "shell.execute_reply.started": "2022-12-04T22:59:34.558070Z",
          "shell.execute_reply": "2022-12-04T22:59:34.572757Z"
        },
        "trusted": true,
        "id": "8cj3WzDNTGvf"
      },
      "execution_count": null,
      "outputs": []
    },
    {
      "cell_type": "code",
      "source": [
        "ax2 = plt.axes()\n",
        "ax2.set_xticklabels([])\n",
        "print(\"All LD50\")\n",
        "plt.hist(ld50)\n",
        "plt.show()"
      ],
      "metadata": {
        "execution": {
          "iopub.status.busy": "2022-12-04T22:59:34.577633Z",
          "iopub.execute_input": "2022-12-04T22:59:34.578372Z",
          "iopub.status.idle": "2022-12-04T22:59:34.958439Z",
          "shell.execute_reply.started": "2022-12-04T22:59:34.578337Z",
          "shell.execute_reply": "2022-12-04T22:59:34.957152Z"
        },
        "trusted": true,
        "id": "HX7WF1geTGvg",
        "outputId": "5d428348-706f-49f2-c3a8-44d3614fd073"
      },
      "execution_count": null,
      "outputs": [
        {
          "name": "stdout",
          "text": "All LD50\n",
          "output_type": "stream"
        },
        {
          "output_type": "display_data",
          "data": {
            "text/plain": "<Figure size 432x288 with 1 Axes>",
            "image/png": "[encoded data removed]"
          },
          "metadata": {
            "needs_background": "light"
          }
        }
      ]
    },
    {
      "cell_type": "code",
      "source": [
        "#ld50\n",
        "ld502 = ld50.loc[ld50['LD50'] <= 300]\n",
        "#ld502\n",
        "ld503 = ld50.loc[ld50['LD50'] > 300]\n",
        "print(ld50.size, ld502.size, ld503.size)"
      ],
      "metadata": {
        "execution": {
          "iopub.status.busy": "2022-12-04T22:59:34.961008Z",
          "iopub.execute_input": "2022-12-04T22:59:34.961402Z",
          "iopub.status.idle": "2022-12-04T22:59:34.971131Z",
          "shell.execute_reply.started": "2022-12-04T22:59:34.961368Z",
          "shell.execute_reply": "2022-12-04T22:59:34.969917Z"
        },
        "trusted": true,
        "id": "ZUlkjPJ4TGvg",
        "outputId": "18407654-6fb1-4a29-ea52-54cdaf66f74d"
      },
      "execution_count": null,
      "outputs": [
        {
          "name": "stdout",
          "text": "258 70 188\n",
          "output_type": "stream"
        }
      ]
    },
    {
      "cell_type": "code",
      "source": [
        "ax2 = plt.axes()\n",
        "ax2.set_xticklabels([])\n",
        "print(\"LD50 <= 300\")\n",
        "plt.hist(ld502)\n",
        "plt.show()"
      ],
      "metadata": {
        "execution": {
          "iopub.status.busy": "2022-12-04T22:59:34.972729Z",
          "iopub.execute_input": "2022-12-04T22:59:34.974569Z",
          "iopub.status.idle": "2022-12-04T22:59:35.206599Z",
          "shell.execute_reply.started": "2022-12-04T22:59:34.974517Z",
          "shell.execute_reply": "2022-12-04T22:59:35.205481Z"
        },
        "trusted": true,
        "id": "aVYwBKmfTGvg",
        "outputId": "34b99387-c79b-421f-863f-2cab35971cd3"
      },
      "execution_count": null,
      "outputs": [
        {
          "name": "stdout",
          "text": "LD50 <= 300\n",
          "output_type": "stream"
        },
        {
          "output_type": "display_data",
          "data": {
            "text/plain": "<Figure size 432x288 with 1 Axes>",
            "image/png": "[encoded data removed]"
          },
          "metadata": {
            "needs_background": "light"
          }
        }
      ]
    },
    {
      "cell_type": "code",
      "source": [
        "plt.savefig(\"ld50toxictyhist.png\")"
      ],
      "metadata": {
        "execution": {
          "iopub.status.busy": "2022-12-04T22:59:35.208016Z",
          "iopub.execute_input": "2022-12-04T22:59:35.208359Z",
          "iopub.status.idle": "2022-12-04T22:59:35.226262Z",
          "shell.execute_reply.started": "2022-12-04T22:59:35.208329Z",
          "shell.execute_reply": "2022-12-04T22:59:35.225107Z"
        },
        "trusted": true,
        "id": "J_mbr7RTTGvg",
        "outputId": "d497e56a-232c-452c-c04c-8cd65956a526"
      },
      "execution_count": null,
      "outputs": [
        {
          "output_type": "display_data",
          "data": {
            "text/plain": "<Figure size 432x288 with 0 Axes>"
          },
          "metadata": {}
        }
      ]
    },
    {
      "cell_type": "code",
      "source": [
        "ax2 = plt.axes()\n",
        "ax2.set_xticklabels([])\n",
        "print(\"LD50 > 300\")\n",
        "plt.hist(ld503)\n",
        "plt.show()"
      ],
      "metadata": {
        "execution": {
          "iopub.status.busy": "2022-12-04T22:59:35.227647Z",
          "iopub.execute_input": "2022-12-04T22:59:35.227987Z",
          "iopub.status.idle": "2022-12-04T22:59:35.510822Z",
          "shell.execute_reply.started": "2022-12-04T22:59:35.227957Z",
          "shell.execute_reply": "2022-12-04T22:59:35.509418Z"
        },
        "trusted": true,
        "id": "8wu4zE0qTGvg",
        "outputId": "7a7a556d-fa89-408d-f7de-fd7a645b3667"
      },
      "execution_count": null,
      "outputs": [
        {
          "name": "stdout",
          "text": "LD50 > 300\n",
          "output_type": "stream"
        },
        {
          "output_type": "display_data",
          "data": {
            "text/plain": "<Figure size 432x288 with 1 Axes>",
            "image/png": "[encoded data removed]"
          },
          "metadata": {
            "needs_background": "light"
          }
        }
      ]
    },
    {
      "cell_type": "code",
      "source": [
        "ax2 = plt.axes()\n",
        "ax2.set_xticklabels([])\n",
        "plt.xlabel(\"Toxic Drugs\")\n",
        "plt.ylabel(\"LD50 Value\")\n",
        "s = [10*1**n for n in range(len(ld502[\"Name\"]))]\n",
        "print(\"LD50 <= 300mg/kg\")\n",
        "plt.scatter(ld502[\"Name\"], ld502[\"LD50\"], s=s)\n",
        "plt.show()"
      ],
      "metadata": {
        "execution": {
          "iopub.status.busy": "2022-12-04T23:01:34.885329Z",
          "iopub.execute_input": "2022-12-04T23:01:34.885740Z",
          "iopub.status.idle": "2022-12-04T23:01:35.195148Z",
          "shell.execute_reply.started": "2022-12-04T23:01:34.885706Z",
          "shell.execute_reply": "2022-12-04T23:01:35.193987Z"
        },
        "trusted": true,
        "id": "O4n1LlGFTGvg",
        "outputId": "6238f029-2723-437e-8806-660c50a00f96"
      },
      "execution_count": null,
      "outputs": [
        {
          "name": "stdout",
          "text": "LD50 <= 300mg/kg\n",
          "output_type": "stream"
        },
        {
          "output_type": "display_data",
          "data": {
            "text/plain": "<Figure size 432x288 with 1 Axes>",
            "image/png": "[encoded data removed]"
          },
          "metadata": {
            "needs_background": "light"
          }
        }
      ]
    },
    {
      "cell_type": "code",
      "source": [
        "plt.savefig(\"ld50toxic.png\")"
      ],
      "metadata": {
        "execution": {
          "iopub.status.busy": "2022-11-23T23:20:40.807635Z",
          "iopub.execute_input": "2022-11-23T23:20:40.808089Z",
          "iopub.status.idle": "2022-11-23T23:20:40.830732Z",
          "shell.execute_reply.started": "2022-11-23T23:20:40.808049Z",
          "shell.execute_reply": "2022-11-23T23:20:40.829463Z"
        },
        "trusted": true,
        "id": "m8KjnoZnTGvg",
        "outputId": "9bef95f6-3841-4790-fd38-e0fc947748b4"
      },
      "execution_count": null,
      "outputs": [
        {
          "output_type": "display_data",
          "data": {
            "text/plain": "<Figure size 432x288 with 0 Axes>"
          },
          "metadata": {}
        }
      ]
    },
    {
      "cell_type": "code",
      "source": [
        "ax2 = plt.axes()\n",
        "x_axis = ax2.axes.get_xaxis()\n",
        "x_axis.set_visible(False)\n",
        "s = [5*1**n for n in range(len(ld503[\"Name\"]))]\n",
        "print(\"LD50 > 300mg/kg\")\n",
        "plt.scatter(ld503[\"Name\"], ld503[\"LD50\"], s=s)\n",
        "plt.show()"
      ],
      "metadata": {
        "execution": {
          "iopub.status.busy": "2022-11-23T23:05:32.510418Z",
          "iopub.execute_input": "2022-11-23T23:05:32.510833Z",
          "iopub.status.idle": "2022-11-23T23:05:32.726138Z",
          "shell.execute_reply.started": "2022-11-23T23:05:32.510801Z",
          "shell.execute_reply": "2022-11-23T23:05:32.724402Z"
        },
        "trusted": true,
        "id": "34CXJyXLTGvh",
        "outputId": "5cd9571b-f4a0-4e8e-b89e-ca8fc5cb193c"
      },
      "execution_count": null,
      "outputs": [
        {
          "name": "stdout",
          "text": "LD50 > 300mg/kg\n",
          "output_type": "stream"
        },
        {
          "output_type": "display_data",
          "data": {
            "text/plain": "<Figure size 432x288 with 1 Axes>",
            "image/png": "[encoded data removed]"
          },
          "metadata": {
            "needs_background": "light"
          }
        }
      ]
    },
    {
      "cell_type": "code",
      "source": [
        "ax2 = plt.axes()\n",
        "x_axis = ax2.axes.get_xaxis()\n",
        "x_axis.set_visible(False)\n",
        "s = [2*1**n for n in range(len(ld50[\"Name\"]))]\n",
        "print(\"All LD50\")\n",
        "plt.scatter(ld50[\"Name\"], ld50[\"LD50\"], s=s)\n",
        "plt.show()"
      ],
      "metadata": {
        "execution": {
          "iopub.status.busy": "2022-11-23T23:06:11.865496Z",
          "iopub.execute_input": "2022-11-23T23:06:11.865933Z",
          "iopub.status.idle": "2022-11-23T23:06:12.797710Z",
          "shell.execute_reply.started": "2022-11-23T23:06:11.865901Z",
          "shell.execute_reply": "2022-11-23T23:06:12.796087Z"
        },
        "trusted": true,
        "id": "woTJbgYBTGvh",
        "outputId": "efae9ad1-93b8-4bd4-b999-e32d60936544"
      },
      "execution_count": null,
      "outputs": [
        {
          "name": "stdout",
          "text": "All LD50\n",
          "output_type": "stream"
        },
        {
          "output_type": "display_data",
          "data": {
            "text/plain": "<Figure size 432x288 with 1 Axes>",
            "image/png": "[encoded data removed]"
          },
          "metadata": {
            "needs_background": "light"
          }
        }
      ]
    },
    {
      "cell_type": "code",
      "source": [],
      "metadata": {
        "id": "itOVSXl7TGvh"
      },
      "execution_count": null,
      "outputs": []
    }
  ]
}